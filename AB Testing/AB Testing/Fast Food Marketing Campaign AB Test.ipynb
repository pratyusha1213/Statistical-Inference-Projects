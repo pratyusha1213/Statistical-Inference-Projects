{
 "cells": [
  {
   "cell_type": "markdown",
   "id": "85015d1f-f13e-4b34-a727-9976307a5cd8",
   "metadata": {},
   "source": [
    "# Fast Food Marketing Campaign A\\B Test"
   ]
  },
  {
   "cell_type": "markdown",
   "id": "0371c52c-2adb-4724-a258-3aa1d75b3e5e",
   "metadata": {},
   "source": [
    "## Scenario"
   ]
  },
  {
   "cell_type": "markdown",
   "id": "6520608c-7add-4cc5-8665-62d73e2175f5",
   "metadata": {},
   "source": [
    "A fast-food chain plans to add a new item to its menu. However, they are still undecided between three possible marketing campaigns for promoting the new product. In order to determine which promotion has the greatest effect on sales, the new item is introduced at locations in several randomly selected markets. A different promotion is used at each location, and the weekly sales of the new item are recorded for the first four weeks."
   ]
  },
  {
   "cell_type": "markdown",
   "id": "f4af3d27-4a05-4e67-8181-7d396c87d6c5",
   "metadata": {},
   "source": [
    "## Goal"
   ]
  },
  {
   "cell_type": "markdown",
   "id": "6f8d55bd-704b-4950-a5a0-ed8568273434",
   "metadata": {},
   "source": [
    "Evaluate A/B testing results and decide which marketing strategy works the best."
   ]
  },
  {
   "cell_type": "markdown",
   "id": "912c481c-4956-4684-801a-5b1a54aa7160",
   "metadata": {},
   "source": [
    "## Dataset"
   ]
  },
  {
   "cell_type": "markdown",
   "id": "cfdc32d1-3632-40cc-bfb1-b26ca099ffbf",
   "metadata": {},
   "source": [
    "This is an open source dataset taken from [Kaggle.com](https://www.kaggle.com/datasets/chebotinaa/fast-food-marketing-campaign-ab-test)\n",
    "- __MarketID__: unique identifier for market\n",
    "- __MarketSize__: size of market area by sales\n",
    "- __LocationID__: unique identifier for store location\n",
    "- __AgeOfStore__: age of store in years\n",
    "- __Promotion__: one of three promotions that were tested\n",
    "- __Week__: one of four weeks when the promotions were run\n",
    "- __SalesInThousands__: sales amount for a specific LocationID, Promotion, and week"
   ]
  },
  {
   "cell_type": "markdown",
   "id": "14db6c5c-e466-48ac-8d3b-246b402fe791",
   "metadata": {},
   "source": [
    "## A/B Testing"
   ]
  },
  {
   "cell_type": "markdown",
   "id": "81206159-d576-440c-bf43-f6db3ebc31c4",
   "metadata": {},
   "source": [
    "There are seven steps that are generally followed while performing A/B testing - \n",
    "1) Understand business objective\n",
    "2) Set hypothesis testing parameters such as null and alternative hypothesis. Significance level and power of the test\n",
    "3) Design of experiment, that is, choosing randomization unit and target population\n",
    "4) Running the experiments and collection of data\n",
    "5) Validity checks on the collected data\n",
    "6) Interpret Results\n",
    "7) Take launch decision based on the results observed"
   ]
  },
  {
   "cell_type": "markdown",
   "id": "8c1459ad-ae9e-4b98-98e4-74135ef62318",
   "metadata": {},
   "source": [
    "# Step 1 -  Business Objective"
   ]
  },
  {
   "cell_type": "markdown",
   "id": "bcf8a933-c74d-4fe6-826f-25be56672985",
   "metadata": {},
   "source": [
    "The fast-food business aims to introduce new products to remain competitive, and we need to evaluate the impact of three different marketing campaigns on weekly sales. For this analysis, the primary success metric is `weekly sales`, and the experiment is conducted at the `market size` using a randomized approach."
   ]
  },
  {
   "cell_type": "markdown",
   "id": "5d43503c-5c0b-4fc9-bb24-ce51a8e69d4f",
   "metadata": {},
   "source": [
    "# Step 2 - Hypothesis Testing"
   ]
  },
  {
   "cell_type": "markdown",
   "id": "5597715a-adf7-4359-871a-05df0e09db53",
   "metadata": {},
   "source": [
    "We now need to define the parameters for hypothesis testing, as we are examining the difference in weekly sales across three marketing campaigns.\n",
    "\n",
    "- **Null Hypothesis (H0)**: There is no significant difference in the mean weekly sales among the three marketing campaigns.\n",
    "- **Alternative Hypothesis (H1)**: There is a significant difference in the mean weekly sales among the three marketing campaigns.\n",
    "\n",
    "We set the significance level at 5% and the test power at 80%."
   ]
  },
  {
   "cell_type": "markdown",
   "id": "9fa7fe71-f8d1-4b0b-a0c9-53397018a01b",
   "metadata": {},
   "source": [
    "# Step 3 - Experiment Design"
   ]
  },
  {
   "cell_type": "markdown",
   "id": "89c7cf2a-6738-4eea-8d3a-bd07275edcca",
   "metadata": {},
   "source": [
    "The experiment targets customers who purchase fast food, with randomization conducted at the market level."
   ]
  },
  {
   "cell_type": "markdown",
   "id": "4d986c00-feac-44af-b956-4f28919739a5",
   "metadata": {},
   "source": [
    "# Step 4 - Run the Experiment"
   ]
  },
  {
   "cell_type": "markdown",
   "id": "b884675c-695d-48eb-bc38-6a0a94f7f794",
   "metadata": {},
   "source": [
    "This step has been taken care of and we have the data from the experiement. Now we move on to analyze this data and interpret the results"
   ]
  },
  {
   "cell_type": "markdown",
   "id": "c9a93ca7-c864-47b0-a972-ac3f4cad33cf",
   "metadata": {},
   "source": [
    "# Step 5 - Validating Checks"
   ]
  },
  {
   "cell_type": "markdown",
   "id": "e0c351f0-078b-4baa-be5d-58f63ccd000d",
   "metadata": {},
   "source": [
    "## Libraries Installation"
   ]
  },
  {
   "cell_type": "code",
   "execution_count": 1,
   "id": "de1b69af-3eb7-46b4-af37-ac3add53eaa6",
   "metadata": {},
   "outputs": [],
   "source": [
    "import pandas as pd\n",
    "import numpy as np\n",
    "import matplotlib.pyplot as plt\n",
    "import seaborn as sns\n",
    "import scipy.stats as stats\n",
    "from scipy.stats import levene\n",
    "from scipy.stats import chi2_contingency\n",
    "from scipy.stats import levene, bartlett\n",
    "from scipy.stats import shapiro\n",
    "from scipy.stats import t\n",
    "from statsmodels.stats.multicomp import pairwise_tukeyhsd\n",
    "import functions as func\n",
    "import utilities as visuals"
   ]
  },
  {
   "cell_type": "markdown",
   "id": "ac99d8de-ae72-461b-af2a-01ad2ca2d7b1",
   "metadata": {},
   "source": [
    "## Data Retrieval"
   ]
  },
  {
   "cell_type": "code",
   "execution_count": 2,
   "id": "5d6e07c0-843e-4b7d-8cdb-4a4463519027",
   "metadata": {},
   "outputs": [
    {
     "name": "stdout",
     "output_type": "stream",
     "text": [
      "(548, 7)\n"
     ]
    },
    {
     "data": {
      "text/html": [
       "<div>\n",
       "<style scoped>\n",
       "    .dataframe tbody tr th:only-of-type {\n",
       "        vertical-align: middle;\n",
       "    }\n",
       "\n",
       "    .dataframe tbody tr th {\n",
       "        vertical-align: top;\n",
       "    }\n",
       "\n",
       "    .dataframe thead th {\n",
       "        text-align: right;\n",
       "    }\n",
       "</style>\n",
       "<table border=\"1\" class=\"dataframe\">\n",
       "  <thead>\n",
       "    <tr style=\"text-align: right;\">\n",
       "      <th></th>\n",
       "      <th>MarketID</th>\n",
       "      <th>MarketSize</th>\n",
       "      <th>LocationID</th>\n",
       "      <th>AgeOfStore</th>\n",
       "      <th>Promotion</th>\n",
       "      <th>week</th>\n",
       "      <th>SalesInThousands</th>\n",
       "    </tr>\n",
       "  </thead>\n",
       "  <tbody>\n",
       "    <tr>\n",
       "      <th>0</th>\n",
       "      <td>1</td>\n",
       "      <td>Medium</td>\n",
       "      <td>1</td>\n",
       "      <td>4</td>\n",
       "      <td>3</td>\n",
       "      <td>1</td>\n",
       "      <td>33.73</td>\n",
       "    </tr>\n",
       "    <tr>\n",
       "      <th>1</th>\n",
       "      <td>1</td>\n",
       "      <td>Medium</td>\n",
       "      <td>1</td>\n",
       "      <td>4</td>\n",
       "      <td>3</td>\n",
       "      <td>2</td>\n",
       "      <td>35.67</td>\n",
       "    </tr>\n",
       "    <tr>\n",
       "      <th>2</th>\n",
       "      <td>1</td>\n",
       "      <td>Medium</td>\n",
       "      <td>1</td>\n",
       "      <td>4</td>\n",
       "      <td>3</td>\n",
       "      <td>3</td>\n",
       "      <td>29.03</td>\n",
       "    </tr>\n",
       "    <tr>\n",
       "      <th>3</th>\n",
       "      <td>1</td>\n",
       "      <td>Medium</td>\n",
       "      <td>1</td>\n",
       "      <td>4</td>\n",
       "      <td>3</td>\n",
       "      <td>4</td>\n",
       "      <td>39.25</td>\n",
       "    </tr>\n",
       "    <tr>\n",
       "      <th>4</th>\n",
       "      <td>1</td>\n",
       "      <td>Medium</td>\n",
       "      <td>2</td>\n",
       "      <td>5</td>\n",
       "      <td>2</td>\n",
       "      <td>1</td>\n",
       "      <td>27.81</td>\n",
       "    </tr>\n",
       "  </tbody>\n",
       "</table>\n",
       "</div>"
      ],
      "text/plain": [
       "   MarketID MarketSize  LocationID  AgeOfStore  Promotion  week  \\\n",
       "0         1     Medium           1           4          3     1   \n",
       "1         1     Medium           1           4          3     2   \n",
       "2         1     Medium           1           4          3     3   \n",
       "3         1     Medium           1           4          3     4   \n",
       "4         1     Medium           2           5          2     1   \n",
       "\n",
       "   SalesInThousands  \n",
       "0             33.73  \n",
       "1             35.67  \n",
       "2             29.03  \n",
       "3             39.25  \n",
       "4             27.81  "
      ]
     },
     "execution_count": 2,
     "metadata": {},
     "output_type": "execute_result"
    }
   ],
   "source": [
    "fast_food = pd.read_csv(\"WA_Marketing-Campaign.csv\")\n",
    "print(fast_food.shape)\n",
    "fast_food.head()"
   ]
  },
  {
   "cell_type": "code",
   "execution_count": 3,
   "id": "39f6eafd-f81d-4f52-8ce7-da86306ddeb1",
   "metadata": {},
   "outputs": [
    {
     "data": {
      "text/plain": [
       "MarketID              int64\n",
       "MarketSize           object\n",
       "LocationID            int64\n",
       "AgeOfStore            int64\n",
       "Promotion             int64\n",
       "week                  int64\n",
       "SalesInThousands    float64\n",
       "dtype: object"
      ]
     },
     "execution_count": 3,
     "metadata": {},
     "output_type": "execute_result"
    }
   ],
   "source": [
    "fast_food.dtypes"
   ]
  },
  {
   "cell_type": "markdown",
   "id": "ad1b53a5-98b1-40a8-8dd8-b0d715a63a60",
   "metadata": {},
   "source": [
    "## Data Cleaning"
   ]
  },
  {
   "cell_type": "code",
   "execution_count": 4,
   "id": "5b4729c2-b0ec-4304-bafa-e9f0c81e116f",
   "metadata": {},
   "outputs": [
    {
     "data": {
      "text/plain": [
       "False"
      ]
     },
     "execution_count": 4,
     "metadata": {},
     "output_type": "execute_result"
    }
   ],
   "source": [
    "fast_food.isna().any().any()"
   ]
  },
  {
   "cell_type": "markdown",
   "id": "7cfcffba-8c8e-4147-ad26-1f0f0add6601",
   "metadata": {},
   "source": [
    "No missing Values"
   ]
  },
  {
   "cell_type": "code",
   "execution_count": 5,
   "id": "a0467326-ed07-4c20-8617-b80b1b9b8b90",
   "metadata": {},
   "outputs": [
    {
     "data": {
      "text/plain": [
       "False"
      ]
     },
     "execution_count": 5,
     "metadata": {},
     "output_type": "execute_result"
    }
   ],
   "source": [
    "fast_food.duplicated().any()"
   ]
  },
  {
   "cell_type": "markdown",
   "id": "f1f86b5e-9279-4e09-a555-5b7438bf3dfe",
   "metadata": {},
   "source": [
    "No Duplicate Values"
   ]
  },
  {
   "cell_type": "markdown",
   "id": "ca78826a-08c7-4ef2-b34a-9ffdc35680fc",
   "metadata": {},
   "source": [
    "## Exploratory Data Analysis"
   ]
  },
  {
   "cell_type": "markdown",
   "id": "04a21b49-1616-430c-89bd-924252ed5c83",
   "metadata": {},
   "source": [
    "### Understanding Data"
   ]
  },
  {
   "cell_type": "markdown",
   "id": "12d804d2-8674-42a1-9d2b-8eb69bcb23d1",
   "metadata": {},
   "source": [
    "#### Descriptive statistics overview"
   ]
  },
  {
   "cell_type": "code",
   "execution_count": 6,
   "id": "ed22dd27-10a9-4459-a4c1-d63ec0f3dddf",
   "metadata": {},
   "outputs": [
    {
     "data": {
      "text/html": [
       "<div>\n",
       "<style scoped>\n",
       "    .dataframe tbody tr th:only-of-type {\n",
       "        vertical-align: middle;\n",
       "    }\n",
       "\n",
       "    .dataframe tbody tr th {\n",
       "        vertical-align: top;\n",
       "    }\n",
       "\n",
       "    .dataframe thead th {\n",
       "        text-align: right;\n",
       "    }\n",
       "</style>\n",
       "<table border=\"1\" class=\"dataframe\">\n",
       "  <thead>\n",
       "    <tr style=\"text-align: right;\">\n",
       "      <th></th>\n",
       "      <th>count</th>\n",
       "      <th>mean</th>\n",
       "      <th>std</th>\n",
       "      <th>min</th>\n",
       "      <th>25%</th>\n",
       "      <th>50%</th>\n",
       "      <th>75%</th>\n",
       "      <th>max</th>\n",
       "    </tr>\n",
       "  </thead>\n",
       "  <tbody>\n",
       "    <tr>\n",
       "      <th>MarketID</th>\n",
       "      <td>548.0</td>\n",
       "      <td>5.715328</td>\n",
       "      <td>2.877001</td>\n",
       "      <td>1.00</td>\n",
       "      <td>3.000</td>\n",
       "      <td>6.0</td>\n",
       "      <td>8.0000</td>\n",
       "      <td>10.00</td>\n",
       "    </tr>\n",
       "    <tr>\n",
       "      <th>LocationID</th>\n",
       "      <td>548.0</td>\n",
       "      <td>479.656934</td>\n",
       "      <td>287.973679</td>\n",
       "      <td>1.00</td>\n",
       "      <td>216.000</td>\n",
       "      <td>504.0</td>\n",
       "      <td>708.0000</td>\n",
       "      <td>920.00</td>\n",
       "    </tr>\n",
       "    <tr>\n",
       "      <th>AgeOfStore</th>\n",
       "      <td>548.0</td>\n",
       "      <td>8.503650</td>\n",
       "      <td>6.638345</td>\n",
       "      <td>1.00</td>\n",
       "      <td>4.000</td>\n",
       "      <td>7.0</td>\n",
       "      <td>12.0000</td>\n",
       "      <td>28.00</td>\n",
       "    </tr>\n",
       "    <tr>\n",
       "      <th>Promotion</th>\n",
       "      <td>548.0</td>\n",
       "      <td>2.029197</td>\n",
       "      <td>0.810729</td>\n",
       "      <td>1.00</td>\n",
       "      <td>1.000</td>\n",
       "      <td>2.0</td>\n",
       "      <td>3.0000</td>\n",
       "      <td>3.00</td>\n",
       "    </tr>\n",
       "    <tr>\n",
       "      <th>week</th>\n",
       "      <td>548.0</td>\n",
       "      <td>2.500000</td>\n",
       "      <td>1.119055</td>\n",
       "      <td>1.00</td>\n",
       "      <td>1.750</td>\n",
       "      <td>2.5</td>\n",
       "      <td>3.2500</td>\n",
       "      <td>4.00</td>\n",
       "    </tr>\n",
       "    <tr>\n",
       "      <th>SalesInThousands</th>\n",
       "      <td>548.0</td>\n",
       "      <td>53.466204</td>\n",
       "      <td>16.755216</td>\n",
       "      <td>17.34</td>\n",
       "      <td>42.545</td>\n",
       "      <td>50.2</td>\n",
       "      <td>60.4775</td>\n",
       "      <td>99.65</td>\n",
       "    </tr>\n",
       "  </tbody>\n",
       "</table>\n",
       "</div>"
      ],
      "text/plain": [
       "                  count        mean         std    min      25%    50%  \\\n",
       "MarketID          548.0    5.715328    2.877001   1.00    3.000    6.0   \n",
       "LocationID        548.0  479.656934  287.973679   1.00  216.000  504.0   \n",
       "AgeOfStore        548.0    8.503650    6.638345   1.00    4.000    7.0   \n",
       "Promotion         548.0    2.029197    0.810729   1.00    1.000    2.0   \n",
       "week              548.0    2.500000    1.119055   1.00    1.750    2.5   \n",
       "SalesInThousands  548.0   53.466204   16.755216  17.34   42.545   50.2   \n",
       "\n",
       "                       75%     max  \n",
       "MarketID            8.0000   10.00  \n",
       "LocationID        708.0000  920.00  \n",
       "AgeOfStore         12.0000   28.00  \n",
       "Promotion           3.0000    3.00  \n",
       "week                3.2500    4.00  \n",
       "SalesInThousands   60.4775   99.65  "
      ]
     },
     "execution_count": 6,
     "metadata": {},
     "output_type": "execute_result"
    }
   ],
   "source": [
    "fast_food.describe().T"
   ]
  },
  {
   "cell_type": "markdown",
   "id": "ddca054b-9c00-491c-a0fe-4b38bdfe02f9",
   "metadata": {},
   "source": [
    "#### Number of MarketID and LocationID"
   ]
  },
  {
   "cell_type": "code",
   "execution_count": 7,
   "id": "423c1a74-5390-4f2b-ab95-33d9afb5ba61",
   "metadata": {},
   "outputs": [
    {
     "data": {
      "text/plain": [
       "10"
      ]
     },
     "execution_count": 7,
     "metadata": {},
     "output_type": "execute_result"
    }
   ],
   "source": [
    "fast_food['MarketID'].nunique()"
   ]
  },
  {
   "cell_type": "code",
   "execution_count": 8,
   "id": "ccdfbbe2-0de0-45cd-9ecd-dd29be9d56db",
   "metadata": {},
   "outputs": [
    {
     "data": {
      "text/plain": [
       "137"
      ]
     },
     "execution_count": 8,
     "metadata": {},
     "output_type": "execute_result"
    }
   ],
   "source": [
    "fast_food['LocationID'].nunique()"
   ]
  },
  {
   "cell_type": "markdown",
   "id": "3f0d9253-9c1b-41ec-8b54-c448529f2b68",
   "metadata": {},
   "source": [
    "## Sample size and proportions overview"
   ]
  },
  {
   "cell_type": "code",
   "execution_count": 9,
   "id": "6c864585-53a4-47a2-a366-7e006f893ba9",
   "metadata": {},
   "outputs": [
    {
     "data": {
      "text/html": [
       "<div>\n",
       "<style scoped>\n",
       "    .dataframe tbody tr th:only-of-type {\n",
       "        vertical-align: middle;\n",
       "    }\n",
       "\n",
       "    .dataframe tbody tr th {\n",
       "        vertical-align: top;\n",
       "    }\n",
       "\n",
       "    .dataframe thead th {\n",
       "        text-align: right;\n",
       "    }\n",
       "</style>\n",
       "<table border=\"1\" class=\"dataframe\">\n",
       "  <thead>\n",
       "    <tr style=\"text-align: right;\">\n",
       "      <th></th>\n",
       "      <th>Unique Locations</th>\n",
       "      <th>Weeks of Data</th>\n",
       "      <th>Unique Markets</th>\n",
       "    </tr>\n",
       "    <tr>\n",
       "      <th>Promotion</th>\n",
       "      <th></th>\n",
       "      <th></th>\n",
       "      <th></th>\n",
       "    </tr>\n",
       "  </thead>\n",
       "  <tbody>\n",
       "    <tr>\n",
       "      <th>1</th>\n",
       "      <td>43</td>\n",
       "      <td>172</td>\n",
       "      <td>10</td>\n",
       "    </tr>\n",
       "    <tr>\n",
       "      <th>2</th>\n",
       "      <td>47</td>\n",
       "      <td>188</td>\n",
       "      <td>9</td>\n",
       "    </tr>\n",
       "    <tr>\n",
       "      <th>3</th>\n",
       "      <td>47</td>\n",
       "      <td>188</td>\n",
       "      <td>10</td>\n",
       "    </tr>\n",
       "  </tbody>\n",
       "</table>\n",
       "</div>"
      ],
      "text/plain": [
       "           Unique Locations  Weeks of Data  Unique Markets\n",
       "Promotion                                                 \n",
       "1                        43            172              10\n",
       "2                        47            188               9\n",
       "3                        47            188              10"
      ]
     },
     "execution_count": 9,
     "metadata": {},
     "output_type": "execute_result"
    }
   ],
   "source": [
    "# How many stores were attributed to each promotion\n",
    "location_counts = fast_food.groupby('Promotion')['LocationID'].nunique() \n",
    "\n",
    "# Total number of weeks of data per promotion\n",
    "week_counts = fast_food.groupby('Promotion')['week'].count()\n",
    "\n",
    "# Total number of unique markets per promotion\n",
    "market_counts = fast_food.groupby('Promotion')['MarketID'].nunique()\n",
    "\n",
    "summary = pd.DataFrame({\n",
    "    'Unique Locations': location_counts,\n",
    "    'Weeks of Data': week_counts,\n",
    "    'Unique Markets': market_counts\n",
    "})\n",
    "\n",
    "summary"
   ]
  },
  {
   "cell_type": "code",
   "execution_count": 10,
   "id": "c6e550ac-1513-41b4-8df8-d6be735b32df",
   "metadata": {},
   "outputs": [
    {
     "data": {
      "text/html": [
       "<div>\n",
       "<style scoped>\n",
       "    .dataframe tbody tr th:only-of-type {\n",
       "        vertical-align: middle;\n",
       "    }\n",
       "\n",
       "    .dataframe tbody tr th {\n",
       "        vertical-align: top;\n",
       "    }\n",
       "\n",
       "    .dataframe thead th {\n",
       "        text-align: right;\n",
       "    }\n",
       "</style>\n",
       "<table border=\"1\" class=\"dataframe\">\n",
       "  <thead>\n",
       "    <tr style=\"text-align: right;\">\n",
       "      <th></th>\n",
       "      <th>Promotion</th>\n",
       "      <th>1</th>\n",
       "      <th>2</th>\n",
       "      <th>3</th>\n",
       "    </tr>\n",
       "  </thead>\n",
       "  <tbody>\n",
       "    <tr>\n",
       "      <th rowspan=\"8\" valign=\"top\">MarketID</th>\n",
       "      <th>count</th>\n",
       "      <td>172.000000</td>\n",
       "      <td>188.000000</td>\n",
       "      <td>188.000000</td>\n",
       "    </tr>\n",
       "    <tr>\n",
       "      <th>mean</th>\n",
       "      <td>5.790698</td>\n",
       "      <td>5.893617</td>\n",
       "      <td>5.468085</td>\n",
       "    </tr>\n",
       "    <tr>\n",
       "      <th>std</th>\n",
       "      <td>2.993624</td>\n",
       "      <td>2.897419</td>\n",
       "      <td>2.742816</td>\n",
       "    </tr>\n",
       "    <tr>\n",
       "      <th>min</th>\n",
       "      <td>1.000000</td>\n",
       "      <td>1.000000</td>\n",
       "      <td>1.000000</td>\n",
       "    </tr>\n",
       "    <tr>\n",
       "      <th>25%</th>\n",
       "      <td>3.000000</td>\n",
       "      <td>4.000000</td>\n",
       "      <td>3.000000</td>\n",
       "    </tr>\n",
       "    <tr>\n",
       "      <th>50%</th>\n",
       "      <td>6.000000</td>\n",
       "      <td>6.000000</td>\n",
       "      <td>6.000000</td>\n",
       "    </tr>\n",
       "    <tr>\n",
       "      <th>75%</th>\n",
       "      <td>8.000000</td>\n",
       "      <td>9.000000</td>\n",
       "      <td>8.000000</td>\n",
       "    </tr>\n",
       "    <tr>\n",
       "      <th>max</th>\n",
       "      <td>10.000000</td>\n",
       "      <td>10.000000</td>\n",
       "      <td>10.000000</td>\n",
       "    </tr>\n",
       "    <tr>\n",
       "      <th rowspan=\"8\" valign=\"top\">LocationID</th>\n",
       "      <th>count</th>\n",
       "      <td>172.000000</td>\n",
       "      <td>188.000000</td>\n",
       "      <td>188.000000</td>\n",
       "    </tr>\n",
       "    <tr>\n",
       "      <th>mean</th>\n",
       "      <td>488.465116</td>\n",
       "      <td>497.446809</td>\n",
       "      <td>453.808511</td>\n",
       "    </tr>\n",
       "    <tr>\n",
       "      <th>std</th>\n",
       "      <td>299.352389</td>\n",
       "      <td>290.158047</td>\n",
       "      <td>274.555052</td>\n",
       "    </tr>\n",
       "    <tr>\n",
       "      <th>min</th>\n",
       "      <td>3.000000</td>\n",
       "      <td>2.000000</td>\n",
       "      <td>1.000000</td>\n",
       "    </tr>\n",
       "    <tr>\n",
       "      <th>25%</th>\n",
       "      <td>218.000000</td>\n",
       "      <td>301.000000</td>\n",
       "      <td>206.000000</td>\n",
       "    </tr>\n",
       "    <tr>\n",
       "      <th>50%</th>\n",
       "      <td>512.000000</td>\n",
       "      <td>502.000000</td>\n",
       "      <td>501.000000</td>\n",
       "    </tr>\n",
       "    <tr>\n",
       "      <th>75%</th>\n",
       "      <td>711.000000</td>\n",
       "      <td>802.000000</td>\n",
       "      <td>705.000000</td>\n",
       "    </tr>\n",
       "    <tr>\n",
       "      <th>max</th>\n",
       "      <td>919.000000</td>\n",
       "      <td>920.000000</td>\n",
       "      <td>917.000000</td>\n",
       "    </tr>\n",
       "    <tr>\n",
       "      <th rowspan=\"8\" valign=\"top\">AgeOfStore</th>\n",
       "      <th>count</th>\n",
       "      <td>172.000000</td>\n",
       "      <td>188.000000</td>\n",
       "      <td>188.000000</td>\n",
       "    </tr>\n",
       "    <tr>\n",
       "      <th>mean</th>\n",
       "      <td>8.279070</td>\n",
       "      <td>7.978723</td>\n",
       "      <td>9.234043</td>\n",
       "    </tr>\n",
       "    <tr>\n",
       "      <th>std</th>\n",
       "      <td>6.636160</td>\n",
       "      <td>6.597648</td>\n",
       "      <td>6.651646</td>\n",
       "    </tr>\n",
       "    <tr>\n",
       "      <th>min</th>\n",
       "      <td>1.000000</td>\n",
       "      <td>1.000000</td>\n",
       "      <td>1.000000</td>\n",
       "    </tr>\n",
       "    <tr>\n",
       "      <th>25%</th>\n",
       "      <td>3.000000</td>\n",
       "      <td>3.000000</td>\n",
       "      <td>5.000000</td>\n",
       "    </tr>\n",
       "    <tr>\n",
       "      <th>50%</th>\n",
       "      <td>6.000000</td>\n",
       "      <td>7.000000</td>\n",
       "      <td>8.000000</td>\n",
       "    </tr>\n",
       "    <tr>\n",
       "      <th>75%</th>\n",
       "      <td>12.000000</td>\n",
       "      <td>10.000000</td>\n",
       "      <td>12.000000</td>\n",
       "    </tr>\n",
       "    <tr>\n",
       "      <th>max</th>\n",
       "      <td>27.000000</td>\n",
       "      <td>28.000000</td>\n",
       "      <td>24.000000</td>\n",
       "    </tr>\n",
       "    <tr>\n",
       "      <th rowspan=\"8\" valign=\"top\">week</th>\n",
       "      <th>count</th>\n",
       "      <td>172.000000</td>\n",
       "      <td>188.000000</td>\n",
       "      <td>188.000000</td>\n",
       "    </tr>\n",
       "    <tr>\n",
       "      <th>mean</th>\n",
       "      <td>2.500000</td>\n",
       "      <td>2.500000</td>\n",
       "      <td>2.500000</td>\n",
       "    </tr>\n",
       "    <tr>\n",
       "      <th>std</th>\n",
       "      <td>1.121298</td>\n",
       "      <td>1.121019</td>\n",
       "      <td>1.121019</td>\n",
       "    </tr>\n",
       "    <tr>\n",
       "      <th>min</th>\n",
       "      <td>1.000000</td>\n",
       "      <td>1.000000</td>\n",
       "      <td>1.000000</td>\n",
       "    </tr>\n",
       "    <tr>\n",
       "      <th>25%</th>\n",
       "      <td>1.750000</td>\n",
       "      <td>1.750000</td>\n",
       "      <td>1.750000</td>\n",
       "    </tr>\n",
       "    <tr>\n",
       "      <th>50%</th>\n",
       "      <td>2.500000</td>\n",
       "      <td>2.500000</td>\n",
       "      <td>2.500000</td>\n",
       "    </tr>\n",
       "    <tr>\n",
       "      <th>75%</th>\n",
       "      <td>3.250000</td>\n",
       "      <td>3.250000</td>\n",
       "      <td>3.250000</td>\n",
       "    </tr>\n",
       "    <tr>\n",
       "      <th>max</th>\n",
       "      <td>4.000000</td>\n",
       "      <td>4.000000</td>\n",
       "      <td>4.000000</td>\n",
       "    </tr>\n",
       "    <tr>\n",
       "      <th rowspan=\"8\" valign=\"top\">SalesInThousands</th>\n",
       "      <th>count</th>\n",
       "      <td>172.000000</td>\n",
       "      <td>188.000000</td>\n",
       "      <td>188.000000</td>\n",
       "    </tr>\n",
       "    <tr>\n",
       "      <th>mean</th>\n",
       "      <td>58.099012</td>\n",
       "      <td>47.329415</td>\n",
       "      <td>55.364468</td>\n",
       "    </tr>\n",
       "    <tr>\n",
       "      <th>std</th>\n",
       "      <td>16.553782</td>\n",
       "      <td>15.108955</td>\n",
       "      <td>16.766231</td>\n",
       "    </tr>\n",
       "    <tr>\n",
       "      <th>min</th>\n",
       "      <td>30.810000</td>\n",
       "      <td>17.340000</td>\n",
       "      <td>22.180000</td>\n",
       "    </tr>\n",
       "    <tr>\n",
       "      <th>25%</th>\n",
       "      <td>46.352500</td>\n",
       "      <td>38.170000</td>\n",
       "      <td>44.197500</td>\n",
       "    </tr>\n",
       "    <tr>\n",
       "      <th>50%</th>\n",
       "      <td>55.385000</td>\n",
       "      <td>45.385000</td>\n",
       "      <td>51.165000</td>\n",
       "    </tr>\n",
       "    <tr>\n",
       "      <th>75%</th>\n",
       "      <td>63.617500</td>\n",
       "      <td>51.745000</td>\n",
       "      <td>61.732500</td>\n",
       "    </tr>\n",
       "    <tr>\n",
       "      <th>max</th>\n",
       "      <td>99.650000</td>\n",
       "      <td>88.640000</td>\n",
       "      <td>96.480000</td>\n",
       "    </tr>\n",
       "  </tbody>\n",
       "</table>\n",
       "</div>"
      ],
      "text/plain": [
       "Promotion                        1           2           3\n",
       "MarketID         count  172.000000  188.000000  188.000000\n",
       "                 mean     5.790698    5.893617    5.468085\n",
       "                 std      2.993624    2.897419    2.742816\n",
       "                 min      1.000000    1.000000    1.000000\n",
       "                 25%      3.000000    4.000000    3.000000\n",
       "                 50%      6.000000    6.000000    6.000000\n",
       "                 75%      8.000000    9.000000    8.000000\n",
       "                 max     10.000000   10.000000   10.000000\n",
       "LocationID       count  172.000000  188.000000  188.000000\n",
       "                 mean   488.465116  497.446809  453.808511\n",
       "                 std    299.352389  290.158047  274.555052\n",
       "                 min      3.000000    2.000000    1.000000\n",
       "                 25%    218.000000  301.000000  206.000000\n",
       "                 50%    512.000000  502.000000  501.000000\n",
       "                 75%    711.000000  802.000000  705.000000\n",
       "                 max    919.000000  920.000000  917.000000\n",
       "AgeOfStore       count  172.000000  188.000000  188.000000\n",
       "                 mean     8.279070    7.978723    9.234043\n",
       "                 std      6.636160    6.597648    6.651646\n",
       "                 min      1.000000    1.000000    1.000000\n",
       "                 25%      3.000000    3.000000    5.000000\n",
       "                 50%      6.000000    7.000000    8.000000\n",
       "                 75%     12.000000   10.000000   12.000000\n",
       "                 max     27.000000   28.000000   24.000000\n",
       "week             count  172.000000  188.000000  188.000000\n",
       "                 mean     2.500000    2.500000    2.500000\n",
       "                 std      1.121298    1.121019    1.121019\n",
       "                 min      1.000000    1.000000    1.000000\n",
       "                 25%      1.750000    1.750000    1.750000\n",
       "                 50%      2.500000    2.500000    2.500000\n",
       "                 75%      3.250000    3.250000    3.250000\n",
       "                 max      4.000000    4.000000    4.000000\n",
       "SalesInThousands count  172.000000  188.000000  188.000000\n",
       "                 mean    58.099012   47.329415   55.364468\n",
       "                 std     16.553782   15.108955   16.766231\n",
       "                 min     30.810000   17.340000   22.180000\n",
       "                 25%     46.352500   38.170000   44.197500\n",
       "                 50%     55.385000   45.385000   51.165000\n",
       "                 75%     63.617500   51.745000   61.732500\n",
       "                 max     99.650000   88.640000   96.480000"
      ]
     },
     "execution_count": 10,
     "metadata": {},
     "output_type": "execute_result"
    }
   ],
   "source": [
    "fast_food.groupby(['Promotion']).describe().T"
   ]
  },
  {
   "cell_type": "markdown",
   "id": "2f390fad-83df-46ac-952f-0905864475d7",
   "metadata": {},
   "source": [
    "### Sample Ratio Mismatch Check"
   ]
  },
  {
   "cell_type": "code",
   "execution_count": 11,
   "id": "24a4307d-e53b-4e3e-b3ae-e793e59b2705",
   "metadata": {},
   "outputs": [
    {
     "name": "stdout",
     "output_type": "stream",
     "text": [
      "Observed Counts: [188 188 172]\n",
      "Expected Counts: [182.66666666666666, 182.66666666666666, 182.66666666666666]\n",
      "Chi-Square Statistic: 0.4742792232379511\n",
      "P-value: 0.7888811433554481\n",
      "No Sample Ratio Mismatch detected\n"
     ]
    }
   ],
   "source": [
    "observed_counts = fast_food['Promotion'].value_counts().values\n",
    "\n",
    "# Calculate expected proportions (assuming equal allocation to promotions)\n",
    "total_samples = observed_counts.sum()\n",
    "num_promotions = len(observed_counts)\n",
    "expected_counts = [total_samples / num_promotions] * num_promotions\n",
    "\n",
    "chi2_stat, p_value, dof, expected = chi2_contingency([observed_counts, expected_counts])\n",
    "\n",
    "print(f\"Observed Counts: {observed_counts}\")\n",
    "print(f\"Expected Counts: {expected_counts}\")\n",
    "print(f\"Chi-Square Statistic: {chi2_stat}\")\n",
    "print(f\"P-value: {p_value}\")\n",
    "\n",
    "if p_value < 0.05:\n",
    "    print(\"Sample Ratio Mismatch detected\")\n",
    "else:\n",
    "    print(\"No Sample Ratio Mismatch detected\")"
   ]
  },
  {
   "cell_type": "markdown",
   "id": "e291ad70-a4aa-4643-8685-288f63550c94",
   "metadata": {},
   "source": [
    "### Visualization"
   ]
  },
  {
   "cell_type": "markdown",
   "id": "81139e32-066b-438e-9da2-329c57462b76",
   "metadata": {},
   "source": [
    "#### Explore Data at Promotion Level"
   ]
  },
  {
   "cell_type": "code",
   "execution_count": 12,
   "id": "38ae4077-0fcb-4b23-b021-172a0e3643f7",
   "metadata": {},
   "outputs": [],
   "source": [
    "count_df = fast_food['Promotion'].value_counts().sort_index().to_frame('Count').reset_index()\n",
    "count_df.columns = ['Promotion', 'Count']"
   ]
  },
  {
   "cell_type": "code",
   "execution_count": 13,
   "id": "42c3bf19-99a9-405e-a585-68be05ad56d4",
   "metadata": {},
   "outputs": [
    {
     "data": {
      "image/png": "[encoded data removed]",
      "text/plain": [
       "<Figure size 500x800 with 2 Axes>"
      ]
     },
     "metadata": {},
     "output_type": "display_data"
    }
   ],
   "source": [
    "fig, (ax1, ax2) = plt.subplots(2, 1, figsize = (5, 8))\n",
    "\n",
    "sns.barplot(y = 'Count', x = 'Promotion', data = count_df, ax = ax1)\n",
    "\n",
    "for container in ax1.containers:\n",
    "    ax1.bar_label(container)\n",
    "ax1.set_title('Total Number of weeks of Data per Promotion')\n",
    "\n",
    "sns.boxplot(y = 'SalesInThousands', x = 'Promotion', data = fast_food,\n",
    "            showmeans = True, meanprops = {'markerfacecolor': 'white'}, ax = ax2)\n",
    "ax2.set_title('Distribution of Sales')\n",
    "fig.subplots_adjust(hspace = 0.3)"
   ]
  },
  {
   "cell_type": "markdown",
   "id": "b8f74e53-5a25-46bc-811a-94f061f4ea5e",
   "metadata": {},
   "source": [
    "We can see that the distribution of sales with promotions 1 and 3 is higher"
   ]
  },
  {
   "cell_type": "markdown",
   "id": "e5039180-8461-46ef-a500-bbccc5063c05",
   "metadata": {},
   "source": [
    "#### Explore data at market level"
   ]
  },
  {
   "cell_type": "code",
   "execution_count": 14,
   "id": "a4a8a107-cb7c-47f2-8acf-9bc9ada61bed",
   "metadata": {},
   "outputs": [
    {
     "data": {
      "text/html": [
       "<div>\n",
       "<style scoped>\n",
       "    .dataframe tbody tr th:only-of-type {\n",
       "        vertical-align: middle;\n",
       "    }\n",
       "\n",
       "    .dataframe tbody tr th {\n",
       "        vertical-align: top;\n",
       "    }\n",
       "\n",
       "    .dataframe thead th {\n",
       "        text-align: right;\n",
       "    }\n",
       "</style>\n",
       "<table border=\"1\" class=\"dataframe\">\n",
       "  <thead>\n",
       "    <tr style=\"text-align: right;\">\n",
       "      <th></th>\n",
       "      <th>MarketSize</th>\n",
       "      <th>Promotion</th>\n",
       "      <th>Count</th>\n",
       "    </tr>\n",
       "  </thead>\n",
       "  <tbody>\n",
       "    <tr>\n",
       "      <th>0</th>\n",
       "      <td>Large</td>\n",
       "      <td>1</td>\n",
       "      <td>56</td>\n",
       "    </tr>\n",
       "    <tr>\n",
       "      <th>1</th>\n",
       "      <td>Large</td>\n",
       "      <td>2</td>\n",
       "      <td>64</td>\n",
       "    </tr>\n",
       "    <tr>\n",
       "      <th>2</th>\n",
       "      <td>Large</td>\n",
       "      <td>3</td>\n",
       "      <td>48</td>\n",
       "    </tr>\n",
       "    <tr>\n",
       "      <th>3</th>\n",
       "      <td>Medium</td>\n",
       "      <td>1</td>\n",
       "      <td>96</td>\n",
       "    </tr>\n",
       "    <tr>\n",
       "      <th>4</th>\n",
       "      <td>Medium</td>\n",
       "      <td>2</td>\n",
       "      <td>108</td>\n",
       "    </tr>\n",
       "    <tr>\n",
       "      <th>5</th>\n",
       "      <td>Medium</td>\n",
       "      <td>3</td>\n",
       "      <td>116</td>\n",
       "    </tr>\n",
       "    <tr>\n",
       "      <th>6</th>\n",
       "      <td>Small</td>\n",
       "      <td>1</td>\n",
       "      <td>20</td>\n",
       "    </tr>\n",
       "    <tr>\n",
       "      <th>7</th>\n",
       "      <td>Small</td>\n",
       "      <td>2</td>\n",
       "      <td>16</td>\n",
       "    </tr>\n",
       "    <tr>\n",
       "      <th>8</th>\n",
       "      <td>Small</td>\n",
       "      <td>3</td>\n",
       "      <td>24</td>\n",
       "    </tr>\n",
       "  </tbody>\n",
       "</table>\n",
       "</div>"
      ],
      "text/plain": [
       "  MarketSize  Promotion  Count\n",
       "0      Large          1     56\n",
       "1      Large          2     64\n",
       "2      Large          3     48\n",
       "3     Medium          1     96\n",
       "4     Medium          2    108\n",
       "5     Medium          3    116\n",
       "6      Small          1     20\n",
       "7      Small          2     16\n",
       "8      Small          3     24"
      ]
     },
     "execution_count": 14,
     "metadata": {},
     "output_type": "execute_result"
    }
   ],
   "source": [
    "count_df2 = fast_food.groupby(['MarketSize', 'Promotion'])['MarketID'].count().reset_index()\n",
    "count_df2.columns = ['MarketSize', 'Promotion', 'Count']\n",
    "count_df2"
   ]
  },
  {
   "cell_type": "code",
   "execution_count": 15,
   "id": "132da6f5-44df-4dfe-b0bf-240a17a681b6",
   "metadata": {},
   "outputs": [
    {
     "data": {
      "image/png": "[encoded data removed]",
      "text/plain": [
       "<Figure size 1000x1000 with 2 Axes>"
      ]
     },
     "metadata": {},
     "output_type": "display_data"
    }
   ],
   "source": [
    "fig, (ax1, ax2) = plt.subplots(2, 1, figsize = (10, 10))\n",
    "\n",
    "sns.barplot(y = 'Count', x = 'MarketSize', hue = 'Promotion', data = count_df2,\n",
    "            order = ['Small', 'Medium', 'Large'], ax = ax1)\n",
    "\n",
    "for container in ax1.containers:\n",
    "    ax1.bar_label(container)\n",
    "ax1.set_title('Promotion Count by Market Size')\n",
    "\n",
    "sns.boxplot(y = 'SalesInThousands', x = 'MarketSize', hue = 'Promotion', data = fast_food,\n",
    "            order = ['Small', 'Medium', 'Large'], showmeans = True,\n",
    "            meanprops = {'markerfacecolor': 'white'}, ax = ax2)\n",
    "\n",
    "ax2.set_title('Distribution of Sales')\n",
    "fig.subplots_adjust(hspace = 0.3)"
   ]
  },
  {
   "cell_type": "markdown",
   "id": "b74a8678-1dce-44e7-b1b4-613a053151e8",
   "metadata": {},
   "source": [
    "- Sales performance is evaluated across market sizes and promotion types.  -\n",
    "- A similar trend is observed across different markets, offering early insights into the potential direction of the analysis.  \n",
    "- Notably, Promotions 1 and 3 show an increase in mean sales, while Promotion 2 appears to be relatively less effective.  \n",
    "- Larger markets demonstrate higher median sales and a broader range of outcomes compared to smaller markets.  \n",
    "- Medium and small markets exhibit less variability in sales; however, the influence of promotion types is evident, with some promotions yielding stronger sales results.  "
   ]
  },
  {
   "cell_type": "markdown",
   "id": "274f9471-4950-4519-8ed9-2273888478a4",
   "metadata": {},
   "source": [
    "Relying solely on boxplots to draw conclusions may not be sufficient for credibility. To strengthen our analysis, an ANOVA test can be performed to assess the statistical significance of the differences in means across the promotions."
   ]
  },
  {
   "cell_type": "markdown",
   "id": "41163929-ad4a-4256-ad66-5917c84aedb7",
   "metadata": {},
   "source": [
    "Prior to conducting the ANOVA test, it is necessary to satisfy three assumptions regarding the data:\n",
    "\n",
    "1) All groups must be independent of each other, and the data should not be based on repeated measurements.\n",
    "\n",
    "2) The responses, i.e., the data, should follow a normal distribution.\n",
    "\n",
    "3) The variances of all groups must be comparable, i.e., approximately equal."
   ]
  },
  {
   "cell_type": "markdown",
   "id": "50c0a12a-8fb9-49de-98ff-5015850e44b5",
   "metadata": {},
   "source": [
    "For the purpose of simplicity, we have made the assumption that the data follows a normal distribution. However, if this assumption is not met, an alternative statistical test, known as the Kruskal-Wallis test, can be employed. This test may be considered as an equivalent of the ANOVA test, but without the normal distribution assumption for the data."
   ]
  },
  {
   "cell_type": "markdown",
   "id": "e7f3e368-b97c-4bf0-af64-8116387e46ab",
   "metadata": {},
   "source": [
    "### Analysis by Promotion  \n",
    "**Objective:**  \n",
    "To accurately define the target metric and select appropriate statistical tests, it is crucial to first explore the features and their relationships, particularly in the context of the three promotions.  "
   ]
  },
  {
   "cell_type": "code",
   "execution_count": 16,
   "id": "a148785d-2eec-45ea-8aa9-334e5125fb80",
   "metadata": {},
   "outputs": [
    {
     "data": {
      "image/png": "[encoded data removed]",
      "text/plain": [
       "<Figure size 640x480 with 1 Axes>"
      ]
     },
     "metadata": {},
     "output_type": "display_data"
    },
    {
     "name": "stdout",
     "output_type": "stream",
     "text": [
      "Promotion 1: p-value=1.97726450444774e-08\n",
      "Data is not normal.\n",
      "Promotion 2: p-value=5.457099666274281e-09\n",
      "Data is not normal.\n",
      "Promotion 3: p-value=1.49946592611918e-08\n",
      "Data is not normal.\n"
     ]
    }
   ],
   "source": [
    "# Visual inspection of distributions per promotion\n",
    "for promotion, group in fast_food.groupby('Promotion'):\n",
    "    sns.histplot(group['SalesInThousands'], kde=True, label=f'Promotion {promotion}', alpha=0.6)\n",
    "plt.legend()\n",
    "plt.title('Sales Distribution by Promotion')\n",
    "plt.show()\n",
    "\n",
    "# Shapiro-Wilk test for each promotion\n",
    "for promotion, group in fast_food.groupby('Promotion'):\n",
    "    stat, p_value = shapiro(group['SalesInThousands'])\n",
    "    print(f'Promotion {promotion}: p-value={p_value}')\n",
    "    if p_value > 0.05:\n",
    "        print(\"Data is approximately normal.\")\n",
    "    else:\n",
    "        print(\"Data is not normal.\")\n"
   ]
  },
  {
   "cell_type": "code",
   "execution_count": 17,
   "id": "fc8fdb85-8f8b-4525-992b-7a62244ff401",
   "metadata": {},
   "outputs": [
    {
     "data": {
      "image/png": "[encoded data removed]",
      "text/plain": [
       "<Figure size 1000x400 with 1 Axes>"
      ]
     },
     "metadata": {},
     "output_type": "display_data"
    }
   ],
   "source": [
    "plt.figure(figsize=(10, 4))\n",
    "sns.boxplot(data=fast_food, x='SalesInThousands', hue='Promotion',\n",
    "             palette=sns.color_palette('bright', n_colors=3))\n",
    "sns.despine(top=True, right=True, left=True, bottom=False)\n",
    "plt.xlabel('Sales In Thousands')\n",
    "plt.title('Sales In Thousands Distribution\\n(specific LocationID, Promotion, '\n",
    "          'and week)', pad=15)\n",
    "plt.show()"
   ]
  },
  {
   "cell_type": "markdown",
   "id": "3f5f0346-a091-40de-956b-a05bd7294362",
   "metadata": {},
   "source": [
    "This box plot shows the distribution of Sales in Thousands for three promotions. Promotion 1 has the highest median sales but also the highest variability, with a wide IQR and many upper outliers. Promotion 2 has the lowest median and narrower IQR, indicating more consistent but lower sales. Promotion 3 falls in between, with moderate variability and fewer extreme outliers compared to Promotion 1."
   ]
  },
  {
   "cell_type": "code",
   "execution_count": 18,
   "id": "6262efac-0565-4022-bef2-8815b25a0e45",
   "metadata": {},
   "outputs": [
    {
     "data": {
      "text/html": [
       "<div>\n",
       "<style scoped>\n",
       "    .dataframe tbody tr th:only-of-type {\n",
       "        vertical-align: middle;\n",
       "    }\n",
       "\n",
       "    .dataframe tbody tr th {\n",
       "        vertical-align: top;\n",
       "    }\n",
       "\n",
       "    .dataframe thead th {\n",
       "        text-align: right;\n",
       "    }\n",
       "</style>\n",
       "<table border=\"1\" class=\"dataframe\">\n",
       "  <thead>\n",
       "    <tr style=\"text-align: right;\">\n",
       "      <th></th>\n",
       "      <th>count</th>\n",
       "      <th>mean</th>\n",
       "      <th>std</th>\n",
       "      <th>min</th>\n",
       "      <th>25%</th>\n",
       "      <th>50%</th>\n",
       "      <th>75%</th>\n",
       "      <th>max</th>\n",
       "    </tr>\n",
       "    <tr>\n",
       "      <th>Promotion</th>\n",
       "      <th></th>\n",
       "      <th></th>\n",
       "      <th></th>\n",
       "      <th></th>\n",
       "      <th></th>\n",
       "      <th></th>\n",
       "      <th></th>\n",
       "      <th></th>\n",
       "    </tr>\n",
       "  </thead>\n",
       "  <tbody>\n",
       "    <tr>\n",
       "      <th>1</th>\n",
       "      <td>172.0</td>\n",
       "      <td>58.099012</td>\n",
       "      <td>16.553782</td>\n",
       "      <td>30.81</td>\n",
       "      <td>46.3525</td>\n",
       "      <td>55.385</td>\n",
       "      <td>63.6175</td>\n",
       "      <td>99.65</td>\n",
       "    </tr>\n",
       "    <tr>\n",
       "      <th>2</th>\n",
       "      <td>188.0</td>\n",
       "      <td>47.329415</td>\n",
       "      <td>15.108955</td>\n",
       "      <td>17.34</td>\n",
       "      <td>38.1700</td>\n",
       "      <td>45.385</td>\n",
       "      <td>51.7450</td>\n",
       "      <td>88.64</td>\n",
       "    </tr>\n",
       "    <tr>\n",
       "      <th>3</th>\n",
       "      <td>188.0</td>\n",
       "      <td>55.364468</td>\n",
       "      <td>16.766231</td>\n",
       "      <td>22.18</td>\n",
       "      <td>44.1975</td>\n",
       "      <td>51.165</td>\n",
       "      <td>61.7325</td>\n",
       "      <td>96.48</td>\n",
       "    </tr>\n",
       "  </tbody>\n",
       "</table>\n",
       "</div>"
      ],
      "text/plain": [
       "           count       mean        std    min      25%     50%      75%    max\n",
       "Promotion                                                                     \n",
       "1          172.0  58.099012  16.553782  30.81  46.3525  55.385  63.6175  99.65\n",
       "2          188.0  47.329415  15.108955  17.34  38.1700  45.385  51.7450  88.64\n",
       "3          188.0  55.364468  16.766231  22.18  44.1975  51.165  61.7325  96.48"
      ]
     },
     "execution_count": 18,
     "metadata": {},
     "output_type": "execute_result"
    }
   ],
   "source": [
    "promotion_details = fast_food.groupby(['Promotion']).describe()\n",
    "promotion_details.SalesInThousands"
   ]
  },
  {
   "cell_type": "markdown",
   "id": "c86ca5f3-2f66-4853-ac13-bdf211c89d19",
   "metadata": {},
   "source": [
    "- The sales distributions for all three promotions are bimodal, differing in their means and variances.  \n",
    "- Promotion 2 exhibits the lowest mean and median, along with the smallest standard deviation and interquartile range (IQR).  \n",
    "- In contrast, Promotion 1 appears to generate the highest sales but also shows the greatest variability and less distinct peaks.  "
   ]
  },
  {
   "cell_type": "markdown",
   "id": "1e0eff97-fc8c-4cb3-976d-0064df159a78",
   "metadata": {},
   "source": [
    "### Sales in Thousands per Week  \n",
    "\n",
    "To investigate whether the bimodal distribution of sales is influenced by variations in sales across different weeks, a plot of **Sales in Thousands by Week** is created. This analysis helps identify potential trends or patterns in weekly sales data that may explain the observed distribution.  "
   ]
  },
  {
   "cell_type": "code",
   "execution_count": 19,
   "id": "314b78d9-835f-4d37-84d5-55adad961e95",
   "metadata": {},
   "outputs": [
    {
     "data": {
      "image/png": "[encoded data removed]",
      "text/plain": [
       "<Figure size 1000x400 with 1 Axes>"
      ]
     },
     "metadata": {},
     "output_type": "display_data"
    }
   ],
   "source": [
    "plt.figure(figsize=(10, 4))\n",
    "sns.histplot(data=fast_food, x='SalesInThousands', hue='week', bins=30,\n",
    "             palette=sns.color_palette('bright', n_colors=4), kde=True)\n",
    "sns.despine(top=True, right=True, left=False, bottom=False)\n",
    "plt.xlabel('Sales In Thousands')\n",
    "plt.title('Sales In Thousands Distribution by Week\\n(specific LocationID, '\n",
    "          'Promotion and week)', pad=15)\n",
    "plt.show()"
   ]
  },
  {
   "cell_type": "markdown",
   "id": "bfff30b6-8cca-4ff7-a3fb-b9a0356b70bb",
   "metadata": {},
   "source": [
    "The sales distribution remains bimodal across different weeks, indicating that the observed bimodal pattern is not due to variations in sales by week."
   ]
  },
  {
   "cell_type": "code",
   "execution_count": 20,
   "id": "71ae44d5-c0c2-42d2-b060-3478c69e342d",
   "metadata": {},
   "outputs": [
    {
     "data": {
      "image/png": "[encoded data removed]",
      "text/plain": [
       "<Figure size 1000x500 with 1 Axes>"
      ]
     },
     "metadata": {},
     "output_type": "display_data"
    }
   ],
   "source": [
    "plt.figure(figsize=(10, 5))\n",
    "sns.lineplot(data=fast_food, x='week', y='SalesInThousands', hue='Promotion',\n",
    "             palette=sns.color_palette('bright', n_colors=3), err_style='bars',\n",
    "             errorbar=('ci', 95))\n",
    "sns.despine(top=True, right=True, left=True, bottom=False)\n",
    "plt.xlabel('Week')\n",
    "plt.ylabel('Sales In Thousands with\\n95% Confidence Interval')\n",
    "plt.title('Average Sales In Thousands by Week and Promotion', pad=15)\n",
    "plt.show()"
   ]
  },
  {
   "cell_type": "code",
   "execution_count": 21,
   "id": "493552bf-c580-4ff2-91ba-cb3ff0340e52",
   "metadata": {},
   "outputs": [
    {
     "data": {
      "text/html": [
       "<div>\n",
       "<style scoped>\n",
       "    .dataframe tbody tr th:only-of-type {\n",
       "        vertical-align: middle;\n",
       "    }\n",
       "\n",
       "    .dataframe tbody tr th {\n",
       "        vertical-align: top;\n",
       "    }\n",
       "\n",
       "    .dataframe thead th {\n",
       "        text-align: right;\n",
       "    }\n",
       "</style>\n",
       "<table border=\"1\" class=\"dataframe\">\n",
       "  <thead>\n",
       "    <tr style=\"text-align: right;\">\n",
       "      <th></th>\n",
       "      <th></th>\n",
       "      <th>count</th>\n",
       "      <th>mean</th>\n",
       "      <th>std</th>\n",
       "      <th>min</th>\n",
       "      <th>25%</th>\n",
       "      <th>50%</th>\n",
       "      <th>75%</th>\n",
       "      <th>max</th>\n",
       "    </tr>\n",
       "    <tr>\n",
       "      <th>week</th>\n",
       "      <th>Promotion</th>\n",
       "      <th></th>\n",
       "      <th></th>\n",
       "      <th></th>\n",
       "      <th></th>\n",
       "      <th></th>\n",
       "      <th></th>\n",
       "      <th></th>\n",
       "      <th></th>\n",
       "    </tr>\n",
       "  </thead>\n",
       "  <tbody>\n",
       "    <tr>\n",
       "      <th rowspan=\"3\" valign=\"top\">1</th>\n",
       "      <th>1</th>\n",
       "      <td>43.0</td>\n",
       "      <td>58.244419</td>\n",
       "      <td>16.798929</td>\n",
       "      <td>35.30</td>\n",
       "      <td>48.740</td>\n",
       "      <td>53.79</td>\n",
       "      <td>62.245</td>\n",
       "      <td>99.65</td>\n",
       "    </tr>\n",
       "    <tr>\n",
       "      <th>2</th>\n",
       "      <td>47.0</td>\n",
       "      <td>47.730213</td>\n",
       "      <td>14.387406</td>\n",
       "      <td>27.81</td>\n",
       "      <td>38.965</td>\n",
       "      <td>46.02</td>\n",
       "      <td>50.645</td>\n",
       "      <td>88.64</td>\n",
       "    </tr>\n",
       "    <tr>\n",
       "      <th>3</th>\n",
       "      <td>47.0</td>\n",
       "      <td>55.776170</td>\n",
       "      <td>18.071909</td>\n",
       "      <td>24.75</td>\n",
       "      <td>45.850</td>\n",
       "      <td>51.01</td>\n",
       "      <td>59.705</td>\n",
       "      <td>96.48</td>\n",
       "    </tr>\n",
       "    <tr>\n",
       "      <th rowspan=\"3\" valign=\"top\">2</th>\n",
       "      <th>1</th>\n",
       "      <td>43.0</td>\n",
       "      <td>56.929535</td>\n",
       "      <td>16.553088</td>\n",
       "      <td>35.86</td>\n",
       "      <td>42.635</td>\n",
       "      <td>55.11</td>\n",
       "      <td>62.855</td>\n",
       "      <td>96.01</td>\n",
       "    </tr>\n",
       "    <tr>\n",
       "      <th>2</th>\n",
       "      <td>47.0</td>\n",
       "      <td>47.582553</td>\n",
       "      <td>14.854098</td>\n",
       "      <td>17.34</td>\n",
       "      <td>38.885</td>\n",
       "      <td>45.75</td>\n",
       "      <td>52.050</td>\n",
       "      <td>82.86</td>\n",
       "    </tr>\n",
       "    <tr>\n",
       "      <th>3</th>\n",
       "      <td>47.0</td>\n",
       "      <td>55.949149</td>\n",
       "      <td>15.643490</td>\n",
       "      <td>22.18</td>\n",
       "      <td>48.495</td>\n",
       "      <td>53.47</td>\n",
       "      <td>61.215</td>\n",
       "      <td>90.30</td>\n",
       "    </tr>\n",
       "    <tr>\n",
       "      <th rowspan=\"3\" valign=\"top\">3</th>\n",
       "      <th>1</th>\n",
       "      <td>43.0</td>\n",
       "      <td>58.774884</td>\n",
       "      <td>16.423121</td>\n",
       "      <td>32.05</td>\n",
       "      <td>48.030</td>\n",
       "      <td>56.19</td>\n",
       "      <td>64.090</td>\n",
       "      <td>99.12</td>\n",
       "    </tr>\n",
       "    <tr>\n",
       "      <th>2</th>\n",
       "      <td>47.0</td>\n",
       "      <td>47.722128</td>\n",
       "      <td>15.979831</td>\n",
       "      <td>23.93</td>\n",
       "      <td>37.395</td>\n",
       "      <td>45.35</td>\n",
       "      <td>52.540</td>\n",
       "      <td>88.12</td>\n",
       "    </tr>\n",
       "    <tr>\n",
       "      <th>3</th>\n",
       "      <td>47.0</td>\n",
       "      <td>54.377872</td>\n",
       "      <td>17.219269</td>\n",
       "      <td>29.03</td>\n",
       "      <td>43.120</td>\n",
       "      <td>50.55</td>\n",
       "      <td>61.565</td>\n",
       "      <td>93.63</td>\n",
       "    </tr>\n",
       "    <tr>\n",
       "      <th rowspan=\"3\" valign=\"top\">4</th>\n",
       "      <th>1</th>\n",
       "      <td>43.0</td>\n",
       "      <td>58.447209</td>\n",
       "      <td>16.962984</td>\n",
       "      <td>30.81</td>\n",
       "      <td>47.005</td>\n",
       "      <td>56.84</td>\n",
       "      <td>64.500</td>\n",
       "      <td>97.61</td>\n",
       "    </tr>\n",
       "    <tr>\n",
       "      <th>2</th>\n",
       "      <td>47.0</td>\n",
       "      <td>46.282766</td>\n",
       "      <td>15.604704</td>\n",
       "      <td>19.26</td>\n",
       "      <td>36.625</td>\n",
       "      <td>44.84</td>\n",
       "      <td>52.190</td>\n",
       "      <td>80.75</td>\n",
       "    </tr>\n",
       "    <tr>\n",
       "      <th>3</th>\n",
       "      <td>47.0</td>\n",
       "      <td>55.354681</td>\n",
       "      <td>16.535599</td>\n",
       "      <td>26.68</td>\n",
       "      <td>44.815</td>\n",
       "      <td>50.05</td>\n",
       "      <td>63.155</td>\n",
       "      <td>94.21</td>\n",
       "    </tr>\n",
       "  </tbody>\n",
       "</table>\n",
       "</div>"
      ],
      "text/plain": [
       "                count       mean        std    min     25%    50%     75%  \\\n",
       "week Promotion                                                              \n",
       "1    1           43.0  58.244419  16.798929  35.30  48.740  53.79  62.245   \n",
       "     2           47.0  47.730213  14.387406  27.81  38.965  46.02  50.645   \n",
       "     3           47.0  55.776170  18.071909  24.75  45.850  51.01  59.705   \n",
       "2    1           43.0  56.929535  16.553088  35.86  42.635  55.11  62.855   \n",
       "     2           47.0  47.582553  14.854098  17.34  38.885  45.75  52.050   \n",
       "     3           47.0  55.949149  15.643490  22.18  48.495  53.47  61.215   \n",
       "3    1           43.0  58.774884  16.423121  32.05  48.030  56.19  64.090   \n",
       "     2           47.0  47.722128  15.979831  23.93  37.395  45.35  52.540   \n",
       "     3           47.0  54.377872  17.219269  29.03  43.120  50.55  61.565   \n",
       "4    1           43.0  58.447209  16.962984  30.81  47.005  56.84  64.500   \n",
       "     2           47.0  46.282766  15.604704  19.26  36.625  44.84  52.190   \n",
       "     3           47.0  55.354681  16.535599  26.68  44.815  50.05  63.155   \n",
       "\n",
       "                  max  \n",
       "week Promotion         \n",
       "1    1          99.65  \n",
       "     2          88.64  \n",
       "     3          96.48  \n",
       "2    1          96.01  \n",
       "     2          82.86  \n",
       "     3          90.30  \n",
       "3    1          99.12  \n",
       "     2          88.12  \n",
       "     3          93.63  \n",
       "4    1          97.61  \n",
       "     2          80.75  \n",
       "     3          94.21  "
      ]
     },
     "execution_count": 21,
     "metadata": {},
     "output_type": "execute_result"
    }
   ],
   "source": [
    "promotion_week_details = fast_food.groupby(['week', 'Promotion']).describe()\n",
    "promotion_week_details.SalesInThousands"
   ]
  },
  {
   "cell_type": "markdown",
   "id": "59c745d1-d765-4920-8b1d-0ca97a19266a",
   "metadata": {},
   "source": [
    "The values for Promotion 1 and Promotion 3 may not show a true significant difference, as their confidence intervals overlap and they have larger standard deviations.\n",
    "\n",
    "The 95% confidence intervals produced by Seaborn's Lineplot are generated using the bootstrapping method."
   ]
  },
  {
   "cell_type": "code",
   "execution_count": 22,
   "id": "5ad38602-f7de-4856-8d1d-967d1f8268dd",
   "metadata": {},
   "outputs": [
    {
     "name": "stdout",
     "output_type": "stream",
     "text": [
      "Levene's Test p-value: 0.2817514565692118\n",
      "Variances are approximately equal.\n",
      "Bartlett’s Test p-value: 0.3114189687247507\n",
      "Variances are approximately equal.\n"
     ]
    }
   ],
   "source": [
    "# Levene's Test\n",
    "stat, p_value = levene(\n",
    "    *[group['SalesInThousands'].values for _, group in fast_food.groupby('Promotion')]\n",
    ")\n",
    "print(f\"Levene's Test p-value: {p_value}\")\n",
    "if p_value > 0.05:\n",
    "    print(\"Variances are approximately equal.\")\n",
    "else:\n",
    "    print(\"Variances are significantly different.\")\n",
    "\n",
    "# Bartlett’s Test\n",
    "stat, p_value = bartlett(\n",
    "    *[group['SalesInThousands'].values for _, group in fast_food.groupby('Promotion')]\n",
    ")\n",
    "print(f\"Bartlett’s Test p-value: {p_value}\")\n",
    "if p_value > 0.05:\n",
    "    print(\"Variances are approximately equal.\")\n",
    "else:\n",
    "    print(\"Variances are significantly different.\")\n"
   ]
  },
  {
   "cell_type": "markdown",
   "id": "f1348a28-5b48-4207-a45c-9c9cd6e2fed8",
   "metadata": {},
   "source": [
    "### Statistical Tests\n",
    "\n",
    "#### Assumption Checking\n",
    "- The sample sizes for Promotions 1, 2, and 3 were found to be sufficiently large (172, 188, and 188, respectively), which supports the application of the Central Limit Theorem.\n",
    "- The independence of the promotions was verified, confirming that they were randomly sampled.\n",
    "- While the data distributions for the promotions were not found to be normal, ANOVA can still be used. This is because, with large sample sizes, the Central Limit Theorem justifies that the distribution of the sample means will approach normality.\n",
    "- Levene's Test was conducted and confirmed that the assumption of equal variances across the groups holds true."
   ]
  },
  {
   "cell_type": "markdown",
   "id": "25eef690-f0ed-4ff7-87b3-3a3aca599c62",
   "metadata": {},
   "source": [
    "# Step 6 - Interpret Results "
   ]
  },
  {
   "cell_type": "markdown",
   "id": "7608daa8-6b44-4a82-9da7-1701c7cd60aa",
   "metadata": {},
   "source": [
    "After examining the data from various angles, it is evident that the total sales demonstrate significant differences across the promotions, while the sales growth over time shows only minor variations.\n",
    "\n",
    "### Target Metric  \n",
    "**Average Sales by Promotion**: The primary goal is to determine which of the three promotional campaigns achieves the highest average sales, providing insight into the most effective strategy for driving revenue."
   ]
  },
  {
   "cell_type": "markdown",
   "id": "d730592d-b599-4917-a133-796f339a66ef",
   "metadata": {},
   "source": [
    "## At Promotion Level"
   ]
  },
  {
   "cell_type": "code",
   "execution_count": 23,
   "id": "4a87f509-40b4-4f65-a119-573bd3155baf",
   "metadata": {},
   "outputs": [],
   "source": [
    "p1_sale = fast_food[fast_food['Promotion'] == 1]['SalesInThousands']\n",
    "p2_sale = fast_food[fast_food['Promotion'] == 2]['SalesInThousands']\n",
    "p3_sale = fast_food[fast_food['Promotion'] == 3]['SalesInThousands']"
   ]
  },
  {
   "cell_type": "markdown",
   "id": "18ac3365-87e6-4e1c-9a17-fc33b5abb6da",
   "metadata": {},
   "source": [
    "The one-way ANOVA tests the null hypothesis that two or more groups have the same population mean. The test is applied to samples from two or more groups, possibly with differing sizes."
   ]
  },
  {
   "cell_type": "code",
   "execution_count": 24,
   "id": "cb94513f-560f-422e-a937-4c418d74b422",
   "metadata": {},
   "outputs": [
    {
     "data": {
      "text/plain": [
       "F_onewayResult(statistic=21.953485793080677, pvalue=6.765849261408714e-10)"
      ]
     },
     "execution_count": 24,
     "metadata": {},
     "output_type": "execute_result"
    }
   ],
   "source": [
    "stats.f_oneway(p1_sale, p2_sale, p3_sale)"
   ]
  },
  {
   "cell_type": "markdown",
   "id": "6c542232-9564-498b-acc7-7667c91670c8",
   "metadata": {},
   "source": [
    "The statistical test results indicate an F-statistic of 21.95, accompanied by a p-value that is exceptionally small, nearing zero. This strongly suggests that promotional activities have a significant impact on sales revenue."
   ]
  },
  {
   "cell_type": "markdown",
   "id": "01450a56-a6a1-47a0-9dc8-75f252c280fa",
   "metadata": {},
   "source": [
    "## At Market Level"
   ]
  },
  {
   "cell_type": "code",
   "execution_count": 25,
   "id": "a310ce5a-a415-4054-859e-3cc6e14c4377",
   "metadata": {},
   "outputs": [],
   "source": [
    "fast_food['market-promotion'] = fast_food['MarketSize'].astype(str) + '-' + fast_food['Promotion'].astype(str)\n",
    "\n",
    "large1 = fast_food.loc[(fast_food['market-promotion']=='Large-1'), 'SalesInThousands']\n",
    "large2 = fast_food.loc[(fast_food['market-promotion']=='Large-2'), 'SalesInThousands']\n",
    "large3 = fast_food.loc[(fast_food['market-promotion']=='Large-3'), 'SalesInThousands']\n",
    "\n",
    "medium1 = fast_food.loc[(fast_food['market-promotion']=='Medium-1'), 'SalesInThousands']\n",
    "medium2 = fast_food.loc[(fast_food['market-promotion']=='Medium-2'), 'SalesInThousands']\n",
    "medium3 = fast_food.loc[(fast_food['market-promotion']=='Medium-3'), 'SalesInThousands']\n",
    "\n",
    "small1 = fast_food.loc[(fast_food['market-promotion']=='Small-1'), 'SalesInThousands']\n",
    "small2 = fast_food.loc[(fast_food['market-promotion']=='Small-2'), 'SalesInThousands']\n",
    "small3 = fast_food.loc[(fast_food['market-promotion']=='Small-3'), 'SalesInThousands']"
   ]
  },
  {
   "cell_type": "code",
   "execution_count": 26,
   "id": "54d9f480-bd9e-4586-8f16-bbd3fd21370f",
   "metadata": {},
   "outputs": [
    {
     "data": {
      "text/plain": [
       "F_onewayResult(statistic=16.57648112557373, pvalue=2.115939995841426e-06)"
      ]
     },
     "execution_count": 26,
     "metadata": {},
     "output_type": "execute_result"
    }
   ],
   "source": [
    "stats.f_oneway(small1, small2, small3)"
   ]
  },
  {
   "cell_type": "code",
   "execution_count": 27,
   "id": "29ebaeab-7710-4561-841a-78a051652a1b",
   "metadata": {},
   "outputs": [
    {
     "data": {
      "text/plain": [
       "F_onewayResult(statistic=29.68813375084531, pvalue=1.5197404971604578e-12)"
      ]
     },
     "execution_count": 27,
     "metadata": {},
     "output_type": "execute_result"
    }
   ],
   "source": [
    "stats.f_oneway(medium1, medium2, medium3)"
   ]
  },
  {
   "cell_type": "code",
   "execution_count": 28,
   "id": "96a5d58a-35fc-4a5c-b28a-da1f44a2e733",
   "metadata": {},
   "outputs": [
    {
     "data": {
      "text/plain": [
       "F_onewayResult(statistic=21.44511115677835, pvalue=5.261567483455427e-09)"
      ]
     },
     "execution_count": 28,
     "metadata": {},
     "output_type": "execute_result"
    }
   ],
   "source": [
    "stats.f_oneway(large1, large2, large3)"
   ]
  },
  {
   "cell_type": "markdown",
   "id": "4a8ca11d-6cd8-4032-8250-9b2dbf7affff",
   "metadata": {},
   "source": [
    "The results of these tests indicate a statistically significant difference in weekly sales figures across all markets."
   ]
  },
  {
   "cell_type": "markdown",
   "id": "03b2ba9c-5a2e-4975-ae74-71ae03fb4d32",
   "metadata": {},
   "source": [
    "### Turkey Honest Significant Difference"
   ]
  },
  {
   "cell_type": "markdown",
   "id": "e12b6498-ceaf-496b-9cd9-8fa7642636e1",
   "metadata": {},
   "source": [
    "Tukey's Honest Significant Difference (HSD) test is a post-hoc analysis method used to evaluate the significance of differences between pairs of group means. It is typically conducted after a one-way ANOVA when the F-test indicates a significant difference among the tested groups."
   ]
  },
  {
   "cell_type": "code",
   "execution_count": 29,
   "id": "80a9d2ee-a568-4367-937e-86129082816f",
   "metadata": {},
   "outputs": [
    {
     "data": {
      "text/html": [
       "<table class=\"simpletable\">\n",
       "<caption>Multiple Comparison of Means - Tukey HSD, FWER=0.05</caption>\n",
       "<tr>\n",
       "  <th>group1</th> <th>group2</th> <th>meandiff</th>  <th>p-adj</th>   <th>lower</th>   <th>upper</th>  <th>reject</th>\n",
       "</tr>\n",
       "<tr>\n",
       "     <td>1</td>      <td>2</td>   <td>-10.7696</td>   <td>0.0</td>  <td>-14.7738</td> <td>-6.7654</td>  <td>True</td> \n",
       "</tr>\n",
       "<tr>\n",
       "     <td>1</td>      <td>3</td>    <td>-2.7345</td> <td>0.2444</td>  <td>-6.7388</td> <td>1.2697</td>   <td>False</td>\n",
       "</tr>\n",
       "<tr>\n",
       "     <td>2</td>      <td>3</td>    <td>8.0351</td>    <td>0.0</td>   <td>4.1208</td>  <td>11.9493</td>  <td>True</td> \n",
       "</tr>\n",
       "</table>"
      ],
      "text/latex": [
       "\\begin{center}\n",
       "\\begin{tabular}{ccccccc}\n",
       "\\toprule\n",
       "\\textbf{group1} & \\textbf{group2} & \\textbf{meandiff} & \\textbf{p-adj} & \\textbf{lower} & \\textbf{upper} & \\textbf{reject}  \\\\\n",
       "\\midrule\n",
       "       1        &        2        &      -10.7696     &      0.0       &    -14.7738    &    -6.7654     &       True       \\\\\n",
       "       1        &        3        &      -2.7345      &     0.2444     &    -6.7388     &     1.2697     &      False       \\\\\n",
       "       2        &        3        &       8.0351      &      0.0       &     4.1208     &    11.9493     &       True       \\\\\n",
       "\\bottomrule\n",
       "\\end{tabular}\n",
       "%\\caption{Multiple Comparison of Means - Tukey HSD, FWER=0.05}\n",
       "\\end{center}"
      ],
      "text/plain": [
       "<class 'statsmodels.iolib.table.SimpleTable'>"
      ]
     },
     "execution_count": 29,
     "metadata": {},
     "output_type": "execute_result"
    },
    {
     "data": {
      "image/png": "[encoded data removed]",
      "text/plain": [
       "<Figure size 1000x600 with 1 Axes>"
      ]
     },
     "metadata": {},
     "output_type": "display_data"
    }
   ],
   "source": [
    "tukey = pairwise_tukeyhsd(endog=fast_food['SalesInThousands'], groups=fast_food['Promotion'], alpha=0.05)\n",
    "\n",
    "tukey.plot_simultaneous()\n",
    "\n",
    "plt.title(\"Tukey post hoc test for three types of promotion in all market sizes\")\n",
    "tukey.summary()"
   ]
  },
  {
   "cell_type": "markdown",
   "id": "aef0155a-d0b4-4ff2-909f-9a8371b1cdd9",
   "metadata": {},
   "source": [
    "The Tukey post hoc test reveals a significant difference between Promotion 2 and the other promotions. However, no significant difference is observed between Promotions 1 and 3."
   ]
  },
  {
   "cell_type": "markdown",
   "id": "3ca43596-b593-4e24-8cde-99e0b5ed5b24",
   "metadata": {},
   "source": [
    "## Small Market Size"
   ]
  },
  {
   "cell_type": "code",
   "execution_count": 30,
   "id": "7b05bdca-45db-4806-85e2-00af560afefd",
   "metadata": {},
   "outputs": [
    {
     "data": {
      "text/html": [
       "<table class=\"simpletable\">\n",
       "<caption>Multiple Comparison of Means - Tukey HSD, FWER=0.05</caption>\n",
       "<tr>\n",
       "  <th>group1</th> <th>group2</th> <th>meandiff</th>  <th>p-adj</th>  <th>lower</th>   <th>upper</th>  <th>reject</th>\n",
       "</tr>\n",
       "<tr>\n",
       "     <td>1</td>      <td>2</td>    <td>-9.3519</td>   <td>0.0</td>  <td>-13.683</td> <td>-5.0208</td>  <td>True</td> \n",
       "</tr>\n",
       "<tr>\n",
       "     <td>1</td>      <td>3</td>    <td>-0.6483</td> <td>0.9161</td> <td>-4.5579</td> <td>3.2612</td>   <td>False</td>\n",
       "</tr>\n",
       "<tr>\n",
       "     <td>2</td>      <td>3</td>    <td>8.7035</td>    <td>0.0</td>  <td>4.5359</td>  <td>12.8712</td>  <td>True</td> \n",
       "</tr>\n",
       "</table>"
      ],
      "text/latex": [
       "\\begin{center}\n",
       "\\begin{tabular}{ccccccc}\n",
       "\\toprule\n",
       "\\textbf{group1} & \\textbf{group2} & \\textbf{meandiff} & \\textbf{p-adj} & \\textbf{lower} & \\textbf{upper} & \\textbf{reject}  \\\\\n",
       "\\midrule\n",
       "       1        &        2        &      -9.3519      &      0.0       &    -13.683     &    -5.0208     &       True       \\\\\n",
       "       1        &        3        &      -0.6483      &     0.9161     &    -4.5579     &     3.2612     &      False       \\\\\n",
       "       2        &        3        &       8.7035      &      0.0       &     4.5359     &    12.8712     &       True       \\\\\n",
       "\\bottomrule\n",
       "\\end{tabular}\n",
       "%\\caption{Multiple Comparison of Means - Tukey HSD, FWER=0.05}\n",
       "\\end{center}"
      ],
      "text/plain": [
       "<class 'statsmodels.iolib.table.SimpleTable'>"
      ]
     },
     "execution_count": 30,
     "metadata": {},
     "output_type": "execute_result"
    },
    {
     "data": {
      "image/png": "[encoded data removed]",
      "text/plain": [
       "<Figure size 1000x600 with 1 Axes>"
      ]
     },
     "metadata": {},
     "output_type": "display_data"
    }
   ],
   "source": [
    "small = fast_food.loc[fast_food['MarketSize'] == 'Small', :]\n",
    "\n",
    "tukey_small = pairwise_tukeyhsd(endog=small['SalesInThousands'], groups=small['Promotion'], alpha=0.05)\n",
    "tukey_small.plot_simultaneous()    \n",
    "plt.title(\"Multiple Comparisons Between All Promotion in Small Market\")\n",
    "plt.xlabel(\"Sales In Thousands\")\n",
    "plt.ylabel(\"Promotion\")\n",
    "\n",
    "tukey_small.summary()"
   ]
  },
  {
   "cell_type": "markdown",
   "id": "8f61768e-fbf6-41f0-b639-b1015589d0bd",
   "metadata": {},
   "source": [
    "## Medium Market Size"
   ]
  },
  {
   "cell_type": "code",
   "execution_count": 31,
   "id": "16b09f83-ba57-4dd6-bcb2-5e145b63ea6a",
   "metadata": {},
   "outputs": [
    {
     "data": {
      "text/html": [
       "<table class=\"simpletable\">\n",
       "<caption>Multiple Comparison of Means - Tukey HSD, FWER=0.05</caption>\n",
       "<tr>\n",
       "  <th>group1</th> <th>group2</th> <th>meandiff</th>  <th>p-adj</th>   <th>lower</th>   <th>upper</th>  <th>reject</th>\n",
       "</tr>\n",
       "<tr>\n",
       "     <td>1</td>      <td>2</td>    <td>-8.5583</td>   <td>0.0</td>  <td>-11.3107</td> <td>-5.8058</td>  <td>True</td> \n",
       "</tr>\n",
       "<tr>\n",
       "     <td>1</td>      <td>3</td>    <td>-2.2037</td> <td>0.1356</td>  <td>-4.9111</td> <td>0.5037</td>   <td>False</td>\n",
       "</tr>\n",
       "<tr>\n",
       "     <td>2</td>      <td>3</td>    <td>6.3545</td>    <td>0.0</td>   <td>3.7307</td>  <td>8.9783</td>   <td>True</td> \n",
       "</tr>\n",
       "</table>"
      ],
      "text/latex": [
       "\\begin{center}\n",
       "\\begin{tabular}{ccccccc}\n",
       "\\toprule\n",
       "\\textbf{group1} & \\textbf{group2} & \\textbf{meandiff} & \\textbf{p-adj} & \\textbf{lower} & \\textbf{upper} & \\textbf{reject}  \\\\\n",
       "\\midrule\n",
       "       1        &        2        &      -8.5583      &      0.0       &    -11.3107    &    -5.8058     &       True       \\\\\n",
       "       1        &        3        &      -2.2037      &     0.1356     &    -4.9111     &     0.5037     &      False       \\\\\n",
       "       2        &        3        &       6.3545      &      0.0       &     3.7307     &     8.9783     &       True       \\\\\n",
       "\\bottomrule\n",
       "\\end{tabular}\n",
       "%\\caption{Multiple Comparison of Means - Tukey HSD, FWER=0.05}\n",
       "\\end{center}"
      ],
      "text/plain": [
       "<class 'statsmodels.iolib.table.SimpleTable'>"
      ]
     },
     "execution_count": 31,
     "metadata": {},
     "output_type": "execute_result"
    },
    {
     "data": {
      "image/png": "[encoded data removed]",
      "text/plain": [
       "<Figure size 1000x600 with 1 Axes>"
      ]
     },
     "metadata": {},
     "output_type": "display_data"
    }
   ],
   "source": [
    "medium = fast_food.loc[fast_food['MarketSize'] == 'Medium', :]\n",
    "\n",
    "tukey_medium = pairwise_tukeyhsd(endog=medium['SalesInThousands'], groups=medium['Promotion'], alpha=0.05)\n",
    "tukey_medium.plot_simultaneous()    \n",
    "plt.title(\"Multiple Comparisons Between All Promotion in Medium Market\")\n",
    "plt.xlabel(\"Sales In Thousands\")\n",
    "plt.ylabel(\"Promotion\")\n",
    "\n",
    "tukey_medium.summary()  "
   ]
  },
  {
   "cell_type": "markdown",
   "id": "560248f3-7cf9-4e7e-ad58-4ba58609ca56",
   "metadata": {},
   "source": [
    "## Large Market Size"
   ]
  },
  {
   "cell_type": "code",
   "execution_count": 32,
   "id": "0a68678d-79ce-4e1f-9f8e-0a509532f948",
   "metadata": {},
   "outputs": [
    {
     "data": {
      "text/html": [
       "<table class=\"simpletable\">\n",
       "<caption>Multiple Comparison of Means - Tukey HSD, FWER=0.05</caption>\n",
       "<tr>\n",
       "  <th>group1</th> <th>group2</th> <th>meandiff</th> <th>p-adj</th>   <th>lower</th>   <th>upper</th>  <th>reject</th>\n",
       "</tr>\n",
       "<tr>\n",
       "     <td>1</td>      <td>2</td>   <td>-14.9139</td>  <td>0.0</td>  <td>-21.5279</td> <td>-8.2998</td>  <td>True</td> \n",
       "</tr>\n",
       "<tr>\n",
       "     <td>1</td>      <td>3</td>    <td>1.9681</td>  <td>0.79</td>   <td>-5.1418</td>  <td>9.078</td>   <td>False</td>\n",
       "</tr>\n",
       "<tr>\n",
       "     <td>2</td>      <td>3</td>    <td>16.8819</td>  <td>0.0</td>   <td>9.9802</td>  <td>23.7837</td>  <td>True</td> \n",
       "</tr>\n",
       "</table>"
      ],
      "text/latex": [
       "\\begin{center}\n",
       "\\begin{tabular}{ccccccc}\n",
       "\\toprule\n",
       "\\textbf{group1} & \\textbf{group2} & \\textbf{meandiff} & \\textbf{p-adj} & \\textbf{lower} & \\textbf{upper} & \\textbf{reject}  \\\\\n",
       "\\midrule\n",
       "       1        &        2        &      -14.9139     &      0.0       &    -21.5279    &    -8.2998     &       True       \\\\\n",
       "       1        &        3        &       1.9681      &      0.79      &    -5.1418     &     9.078      &      False       \\\\\n",
       "       2        &        3        &      16.8819      &      0.0       &     9.9802     &    23.7837     &       True       \\\\\n",
       "\\bottomrule\n",
       "\\end{tabular}\n",
       "%\\caption{Multiple Comparison of Means - Tukey HSD, FWER=0.05}\n",
       "\\end{center}"
      ],
      "text/plain": [
       "<class 'statsmodels.iolib.table.SimpleTable'>"
      ]
     },
     "execution_count": 32,
     "metadata": {},
     "output_type": "execute_result"
    },
    {
     "data": {
      "image/png": "[encoded data removed]",
      "text/plain": [
       "<Figure size 1000x600 with 1 Axes>"
      ]
     },
     "metadata": {},
     "output_type": "display_data"
    }
   ],
   "source": [
    "large = fast_food.loc[fast_food['MarketSize'] == 'Large', :]\n",
    "\n",
    "tukey_large = pairwise_tukeyhsd(endog=large['SalesInThousands'], groups=large['Promotion'], alpha=0.05)  \n",
    "\n",
    "tukey_large.plot_simultaneous()    \n",
    "plt.title(\"Multiple Comparisons Between All Promotion in Large Market\")\n",
    "plt.xlabel(\"Sales In Thousands\")\n",
    "plt.ylabel(\"Promotion\")\n",
    "\n",
    "tukey_large.summary() "
   ]
  },
  {
   "cell_type": "markdown",
   "id": "72443e5d-d3c2-4baa-b35e-0b51c62e53b0",
   "metadata": {},
   "source": [
    "The ANOVA and post hoc test results for markets of different sizes—small, medium, and large—align closely with the findings from the overall analysis. This consistency indicates that the observed patterns and statistical significance in sales performance across the three promotions hold true across all market size categories."
   ]
  },
  {
   "cell_type": "markdown",
   "id": "63a1ebb3-38e5-4565-b1d6-01d40ec733a1",
   "metadata": {},
   "source": [
    "# Confidence Intervals"
   ]
  },
  {
   "cell_type": "markdown",
   "id": "443f2be7-8948-4097-8067-098461a934f4",
   "metadata": {},
   "source": [
    "**Analytical Method - Estimating the Population Mean with Confidence**"
   ]
  },
  {
   "cell_type": "code",
   "execution_count": 33,
   "id": "81db96d0-ff96-4245-a1a3-f7e045fd7a18",
   "metadata": {},
   "outputs": [
    {
     "data": {
      "text/html": [
       "<div>\n",
       "<style scoped>\n",
       "    .dataframe tbody tr th:only-of-type {\n",
       "        vertical-align: middle;\n",
       "    }\n",
       "\n",
       "    .dataframe tbody tr th {\n",
       "        vertical-align: top;\n",
       "    }\n",
       "\n",
       "    .dataframe thead th {\n",
       "        text-align: right;\n",
       "    }\n",
       "</style>\n",
       "<table border=\"1\" class=\"dataframe\">\n",
       "  <thead>\n",
       "    <tr style=\"text-align: right;\">\n",
       "      <th></th>\n",
       "      <th>Promotion</th>\n",
       "      <th>Mean</th>\n",
       "      <th>CI Lower</th>\n",
       "      <th>CI Upper</th>\n",
       "    </tr>\n",
       "  </thead>\n",
       "  <tbody>\n",
       "    <tr>\n",
       "      <th>0</th>\n",
       "      <td>Promotion 1</td>\n",
       "      <td>58.099012</td>\n",
       "      <td>55.607485</td>\n",
       "      <td>60.590539</td>\n",
       "    </tr>\n",
       "    <tr>\n",
       "      <th>1</th>\n",
       "      <td>Promotion 2</td>\n",
       "      <td>47.329415</td>\n",
       "      <td>45.155596</td>\n",
       "      <td>49.503234</td>\n",
       "    </tr>\n",
       "    <tr>\n",
       "      <th>2</th>\n",
       "      <td>Promotion 3</td>\n",
       "      <td>55.364468</td>\n",
       "      <td>52.952207</td>\n",
       "      <td>57.776730</td>\n",
       "    </tr>\n",
       "  </tbody>\n",
       "</table>\n",
       "</div>"
      ],
      "text/plain": [
       "     Promotion       Mean   CI Lower   CI Upper\n",
       "0  Promotion 1  58.099012  55.607485  60.590539\n",
       "1  Promotion 2  47.329415  45.155596  49.503234\n",
       "2  Promotion 3  55.364468  52.952207  57.776730"
      ]
     },
     "execution_count": 33,
     "metadata": {},
     "output_type": "execute_result"
    }
   ],
   "source": [
    "ci_results = [\n",
    "    func.ci_mean_analytical(data=fast_food[fast_food['Promotion'] == i]['SalesInThousands'])\n",
    "    for i in range(1, 4)\n",
    "]\n",
    "\n",
    "ci_df_analytical = pd.DataFrame(ci_results, columns=['Mean', 'CI Lower', 'CI Upper'])\n",
    "ci_df_analytical['Promotion'] = ['Promotion 1', 'Promotion 2', 'Promotion 3']\n",
    "ci_df_analytical = ci_df_analytical[['Promotion', 'Mean', 'CI Lower', 'CI Upper']]\n",
    "\n",
    "ci_df_analytical"
   ]
  },
  {
   "cell_type": "code",
   "execution_count": 34,
   "id": "f225d381-cee6-4ab3-bc32-0f598d4b6e3f",
   "metadata": {},
   "outputs": [
    {
     "data": {
      "text/html": [
       "<div>\n",
       "<style scoped>\n",
       "    .dataframe tbody tr th:only-of-type {\n",
       "        vertical-align: middle;\n",
       "    }\n",
       "\n",
       "    .dataframe tbody tr th {\n",
       "        vertical-align: top;\n",
       "    }\n",
       "\n",
       "    .dataframe thead th {\n",
       "        text-align: right;\n",
       "    }\n",
       "</style>\n",
       "<table border=\"1\" class=\"dataframe\">\n",
       "  <thead>\n",
       "    <tr style=\"text-align: right;\">\n",
       "      <th></th>\n",
       "      <th>Promotion</th>\n",
       "      <th>Mean</th>\n",
       "      <th>CI Lower</th>\n",
       "      <th>CI Upper</th>\n",
       "    </tr>\n",
       "  </thead>\n",
       "  <tbody>\n",
       "    <tr>\n",
       "      <th>0</th>\n",
       "      <td>Promotion 1</td>\n",
       "      <td>58.123121</td>\n",
       "      <td>55.537794</td>\n",
       "      <td>60.696760</td>\n",
       "    </tr>\n",
       "    <tr>\n",
       "      <th>1</th>\n",
       "      <td>Promotion 2</td>\n",
       "      <td>47.337197</td>\n",
       "      <td>45.276727</td>\n",
       "      <td>49.514040</td>\n",
       "    </tr>\n",
       "    <tr>\n",
       "      <th>2</th>\n",
       "      <td>Promotion 3</td>\n",
       "      <td>55.461231</td>\n",
       "      <td>53.207645</td>\n",
       "      <td>57.976052</td>\n",
       "    </tr>\n",
       "  </tbody>\n",
       "</table>\n",
       "</div>"
      ],
      "text/plain": [
       "     Promotion       Mean   CI Lower   CI Upper\n",
       "0  Promotion 1  58.123121  55.537794  60.696760\n",
       "1  Promotion 2  47.337197  45.276727  49.514040\n",
       "2  Promotion 3  55.461231  53.207645  57.976052"
      ]
     },
     "execution_count": 34,
     "metadata": {},
     "output_type": "execute_result"
    }
   ],
   "source": [
    "ci_results = [\n",
    "    func.ci_bootstrap(data=fast_food[fast_food['Promotion'] == i]['SalesInThousands'])\n",
    "    for i in range(1, 4)\n",
    "]\n",
    "\n",
    "ci_df_bootstrap = pd.DataFrame(ci_results, columns=['Mean', 'CI Lower', 'CI Upper'])\n",
    "ci_df_bootstrap['Promotion'] = ['Promotion 1', 'Promotion 2', 'Promotion 3']\n",
    "ci_df_bootstrap = ci_df_bootstrap[['Promotion', 'Mean', 'CI Lower', 'CI Upper']]\n",
    "\n",
    "ci_df_bootstrap"
   ]
  },
  {
   "cell_type": "code",
   "execution_count": 35,
   "id": "58a6a90f-2166-4613-adea-ce9e9d3c95c3",
   "metadata": {},
   "outputs": [
    {
     "data": {
      "image/png": "[encoded data removed]",
      "text/plain": [
       "<Figure size 1000x600 with 1 Axes>"
      ]
     },
     "metadata": {},
     "output_type": "display_data"
    }
   ],
   "source": [
    "visuals.plot_with_error_bars(ci_df_analytical, ci_df_bootstrap)"
   ]
  },
  {
   "cell_type": "markdown",
   "id": "cc1992bc-18f7-4a28-af32-235222479c40",
   "metadata": {},
   "source": [
    "Both the bootstrapping and analytical approaches produced similar confidence intervals."
   ]
  },
  {
   "cell_type": "markdown",
   "id": "a973347c-afc6-463b-a430-5d049b99ec49",
   "metadata": {},
   "source": [
    "# Decision"
   ]
  },
  {
   "cell_type": "markdown",
   "id": "96c5f0f0-68f5-4d34-9e09-25760e6ac179",
   "metadata": {},
   "source": [
    "The statistical analysis shows that promotions 1 and 3 consistently produce higher average revenues compared to promotion 2 across all market sizes. Therefore, the organization might consider incorporating promotions 1 and 3 into its upcoming marketing strategies."
   ]
  },
  {
   "cell_type": "markdown",
   "id": "ec97dbf6-27e7-44c3-908b-38c8122f327f",
   "metadata": {},
   "source": [
    "# Further Improvements"
   ]
  },
  {
   "cell_type": "markdown",
   "id": "0014fbfb-1898-448e-93b6-ea41cb164e28",
   "metadata": {},
   "source": [
    "We can design and test multiple variations within each marketing campaign to pinpoint which specific features contribute the most to its success. For example, we could experiment with different elements such as ad wording, discount structures, visual designs, promotion channels, or timing. By systematically varying one feature at a time and analyzing the outcomes, we can determine which combinations are most effective in driving sales, customer engagement, and overall campaign performance. This approach allows for a deeper understanding of customer preferences and helps optimize future marketing strategies for maximum impact."
   ]
  },
  {
   "cell_type": "code",
   "execution_count": null,
   "id": "e5a34e5b-f2af-444f-b752-76aef3088708",
   "metadata": {},
   "outputs": [],
   "source": []
  }
 ],
 "metadata": {
  "kernelspec": {
   "display_name": "Python 3 (ipykernel)",
   "language": "python",
   "name": "python3"
  },
  "language_info": {
   "codemirror_mode": {
    "name": "ipython",
    "version": 3
   },
   "file_extension": ".py",
   "mimetype": "text/x-python",
   "name": "python",
   "nbconvert_exporter": "python",
   "pygments_lexer": "ipython3",
   "version": "3.12.7"
  }
 },
 "nbformat": 4,
 "nbformat_minor": 5
}
