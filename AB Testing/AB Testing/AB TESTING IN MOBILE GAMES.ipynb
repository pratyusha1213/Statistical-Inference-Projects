{
 "cells": [
  {
   "cell_type": "markdown",
   "id": "2c9fbb82-7369-4135-bfaa-a8a741df9a43",
   "metadata": {},
   "source": [
    "# A/B Testing in Mobile Games"
   ]
  },
  {
   "cell_type": "markdown",
   "id": "2cc53b25-fee8-4a5d-84f9-aa82ac6a9bdf",
   "metadata": {},
   "source": [
    "## Scenario"
   ]
  },
  {
   "cell_type": "markdown",
   "id": "643beb5a-9208-4130-b94d-52d25eb9bd01",
   "metadata": {},
   "source": [
    "The dataset consists of A/B test results for a mobile game called Cookie Cats, which was used to study the impact of changing a game feature on player engagement. Specifically, the test involved moving the first gate in the game from level 30 to level 40 to evaluate if this change would influence player behavior. Players who installed the game during the testing period were randomly assigned to one of two groups: the control group (gate_30), where the gate was at level 30, and the experimental group (gate_40), where the gate was moved to level 40."
   ]
  },
  {
   "cell_type": "markdown",
   "id": "7dc40769-3e53-4b8b-a664-c555d4d3c159",
   "metadata": {},
   "source": [
    "## Goal"
   ]
  },
  {
   "cell_type": "markdown",
   "id": "ad6595c0-aeed-4946-822a-a626bc3ba24a",
   "metadata": {},
   "source": [
    "When a player installed the game **Cookie Cats**, they were randomly assigned to one of two groups: gate_30 or gate_40. The dataset contains A/B test results that evaluate the impact of moving the first gate in the game from level 30 to level 40. By applying an A/B test, we aim to determine which gate location—level 30 or level 40—yields better player engagement and retention, guiding the decision on where the game should position its gate for optimal performance."
   ]
  },
  {
   "cell_type": "markdown",
   "id": "bf76cadd-d385-4e94-abe7-e818faa0da7f",
   "metadata": {},
   "source": [
    "## Dataset"
   ]
  },
  {
   "cell_type": "markdown",
   "id": "e5ed4be0-73c4-41c9-845b-933ef4023448",
   "metadata": {},
   "source": [
    "This is an open-source dataset sourced from Kaggle.com:\n",
    "\n",
    "- **userid**: A unique identifier for each player.\n",
    "- **version**: Indicates whether the player was assigned to the control group (gate_30) or the experimental group (gate_40), representing the original and modified game gate locations.\n",
    "- **sum_gamerounds**: The total number of game rounds played by the player during the first 14 days after installation.\n",
    "- **retention_1**: Indicates whether the player returned and played the game 1 day after installation.\n",
    "- **retention_7**: Indicates whether the player returned and played the game 7 days after installation."
   ]
  },
  {
   "cell_type": "markdown",
   "id": "9c23ded1-3c48-49b9-8b9f-096dd07fdb8e",
   "metadata": {},
   "source": [
    "## A/B Testing"
   ]
  },
  {
   "cell_type": "markdown",
   "id": "fed07b8b-12d5-4a9d-baf2-a989ca4736b5",
   "metadata": {},
   "source": [
    "There are seven steps that are generally followed while performing A/B testing - \n",
    "1) Understand business objective\n",
    "2) Set hypothesis testing parameters such as null and alternative hypothesis. Significance level and power of the test\n",
    "3) Design of experiment, that is, choosing randomization unit and target population\n",
    "4) Running the experiments and collection of data\n",
    "5) Validity checks on the collected data\n",
    "6) Interpret Results\n",
    "7) Take launch decision based on the results observed"
   ]
  },
  {
   "cell_type": "markdown",
   "id": "8a1b848b-ec70-46eb-8abb-0310cf9b3d9d",
   "metadata": {},
   "source": [
    "# Step 1 -  Business Objective"
   ]
  },
  {
   "cell_type": "markdown",
   "id": "11fcb8c6-8371-48d6-8aec-b76192c5d26c",
   "metadata": {},
   "source": [
    "The business objective for the **Cookie Cats** game is to optimize player engagement and retention by determining the impact of changing the first gate from level 30 to 40. This aims to enhance user experience and increase revenue through higher player activity and return rates."
   ]
  },
  {
   "cell_type": "markdown",
   "id": "b8655f6b-8efb-4d7c-aca2-3508817bef10",
   "metadata": {},
   "source": [
    "# Step 2 - Hypothesis Testing"
   ]
  },
  {
   "cell_type": "markdown",
   "id": "20063b9e-7096-436a-a27d-335642ed48e1",
   "metadata": {},
   "source": [
    "To analyze the impact of changing the gate level in the **Cookie Cats** game, we define the parameters for hypothesis testing as follows:\n",
    "\n",
    "- **Null Hypothesis (H₀):** The gate level (level 30 or level 40) does not significantly affect player retention \n",
    "- **Alternative Hypothesis (H₁):** The gate level (level 30 or level 40) significantly affects player retention\n",
    "\n",
    "We set the significance level at **5% (α = 0.05)**."
   ]
  },
  {
   "cell_type": "markdown",
   "id": "b4321d1e-6517-4967-a5b5-b95449fb2ba0",
   "metadata": {},
   "source": [
    "# Step 3 - Experiment Design"
   ]
  },
  {
   "cell_type": "markdown",
   "id": "a4be7cab-7307-47c0-86fb-4a8e46b8f8a2",
   "metadata": {},
   "source": [
    "The experiment targets **Cookie Cats** players, with randomization at the player level. Players are assigned to either gate_30 (control) or gate_40 (test), and metrics like **retention** and **game rounds played** are compared to assess the impact of gate placement."
   ]
  },
  {
   "cell_type": "markdown",
   "id": "ed745fb2-77bb-4904-a5f6-ab309d2b1514",
   "metadata": {},
   "source": [
    "# Step 4 - Run the Experiment"
   ]
  },
  {
   "cell_type": "markdown",
   "id": "d58fe9fc-e4d4-4fd0-91ef-9999e21bcb1c",
   "metadata": {},
   "source": [
    "This step has been taken care of and we have the data from the experiement. Now we move on to analyze this data and interpret the results"
   ]
  },
  {
   "cell_type": "markdown",
   "id": "c2507e6a-af00-4f47-a03c-d10bc2e9ae65",
   "metadata": {},
   "source": [
    "# Step 5 - Validating Checks"
   ]
  },
  {
   "cell_type": "markdown",
   "id": "cdfc7e97-cbac-4e7c-8e5a-60154972659a",
   "metadata": {},
   "source": [
    "## Libraries Installation"
   ]
  },
  {
   "cell_type": "code",
   "execution_count": 1,
   "id": "ccf567a2-5041-4db7-91fa-5ffd16717e70",
   "metadata": {},
   "outputs": [],
   "source": [
    "import pandas as pd\n",
    "import numpy as np\n",
    "import matplotlib.pyplot as plt\n",
    "import seaborn as sns\n",
    "import scipy.stats as stats\n",
    "from scipy.stats import chi2_contingency\n",
    "from scipy.stats import normaltest\n",
    "from scipy import stats as st\n",
    "from statsmodels.stats.proportion import proportions_ztest\n",
    "import functions as func\n",
    "import utilities as visuals"
   ]
  },
  {
   "cell_type": "markdown",
   "id": "ed3436a6-5fb4-48c0-98a1-257923b77f60",
   "metadata": {},
   "source": [
    "## Data Retrieval"
   ]
  },
  {
   "cell_type": "code",
   "execution_count": 2,
   "id": "ca2bb13b-b3ca-4d60-9aa3-015f7ffe3036",
   "metadata": {},
   "outputs": [
    {
     "name": "stdout",
     "output_type": "stream",
     "text": [
      "(90189, 5)\n",
      "Updated dataset size: (86195, 5)\n",
      "    userid  version  sum_gamerounds  retention_1  retention_7\n",
      "0      116  gate_30               3        False        False\n",
      "1      337  gate_30              38         True        False\n",
      "2      377  gate_40             165         True        False\n",
      "3      483  gate_40               1        False        False\n",
      "4      488  gate_40             179         True         True\n",
      "5      540  gate_40             187         True         True\n",
      "7     1444  gate_40               2        False        False\n",
      "8     1574  gate_40             108         True         True\n",
      "9     1587  gate_40             153         True        False\n",
      "10    1842  gate_40               3        False         True\n"
     ]
    }
   ],
   "source": [
    "cookie_cats = pd.read_csv(\"cookie_cats.csv\")\n",
    "print(cookie_cats.shape)\n",
    "cookie_cats.head()\n",
    "\n",
    "cookie_cats = cookie_cats[cookie_cats['sum_gamerounds'] > 0]\n",
    "\n",
    "print(f\"Updated dataset size: {cookie_cats.shape}\")\n",
    "print(cookie_cats.head(10))\n"
   ]
  },
  {
   "cell_type": "code",
   "execution_count": 3,
   "id": "fad773f8-0ccc-4b27-a854-a7636e323089",
   "metadata": {},
   "outputs": [
    {
     "data": {
      "text/plain": [
       "userid             int64\n",
       "version           object\n",
       "sum_gamerounds     int64\n",
       "retention_1         bool\n",
       "retention_7         bool\n",
       "dtype: object"
      ]
     },
     "execution_count": 3,
     "metadata": {},
     "output_type": "execute_result"
    }
   ],
   "source": [
    "cookie_cats.dtypes"
   ]
  },
  {
   "cell_type": "markdown",
   "id": "8a36f42b-f0bc-4085-a196-e4ba26166e48",
   "metadata": {},
   "source": [
    "## Data Cleaning"
   ]
  },
  {
   "cell_type": "code",
   "execution_count": 4,
   "id": "ca524cd0-9585-47f3-87b6-bd85392d611e",
   "metadata": {},
   "outputs": [
    {
     "data": {
      "text/plain": [
       "False"
      ]
     },
     "execution_count": 4,
     "metadata": {},
     "output_type": "execute_result"
    }
   ],
   "source": [
    "cookie_cats.isna().any().any()"
   ]
  },
  {
   "cell_type": "markdown",
   "id": "1aae1b5f-ad05-4df4-8737-680560555dee",
   "metadata": {},
   "source": [
    "No Missing Values"
   ]
  },
  {
   "cell_type": "code",
   "execution_count": 5,
   "id": "7e46de0a-3a26-4c8f-b61c-5110619f563a",
   "metadata": {},
   "outputs": [
    {
     "data": {
      "text/plain": [
       "False"
      ]
     },
     "execution_count": 5,
     "metadata": {},
     "output_type": "execute_result"
    }
   ],
   "source": [
    "cookie_cats.duplicated().any()"
   ]
  },
  {
   "cell_type": "markdown",
   "id": "b10b733d-71ba-4d59-93d1-9b032702eb81",
   "metadata": {},
   "source": [
    "No Duplicate Values"
   ]
  },
  {
   "cell_type": "markdown",
   "id": "b94c9260-af29-4e29-b567-cea5876958cc",
   "metadata": {},
   "source": [
    "## Exploratory Data Analysis"
   ]
  },
  {
   "cell_type": "markdown",
   "id": "f9bddcf5-fa6f-45d3-b011-c6909d9fc347",
   "metadata": {},
   "source": [
    "### Understanding Data"
   ]
  },
  {
   "cell_type": "markdown",
   "id": "7bba9030-2b1f-4c30-8872-77fb2f4d5b69",
   "metadata": {},
   "source": [
    "#### Descriptive statistics overview"
   ]
  },
  {
   "cell_type": "code",
   "execution_count": 6,
   "id": "b5dbcf8f-f4d9-4697-b173-86f49e9ebe4b",
   "metadata": {},
   "outputs": [
    {
     "data": {
      "text/html": [
       "<div>\n",
       "<style scoped>\n",
       "    .dataframe tbody tr th:only-of-type {\n",
       "        vertical-align: middle;\n",
       "    }\n",
       "\n",
       "    .dataframe tbody tr th {\n",
       "        vertical-align: top;\n",
       "    }\n",
       "\n",
       "    .dataframe thead th {\n",
       "        text-align: right;\n",
       "    }\n",
       "</style>\n",
       "<table border=\"1\" class=\"dataframe\">\n",
       "  <thead>\n",
       "    <tr style=\"text-align: right;\">\n",
       "      <th></th>\n",
       "      <th>count</th>\n",
       "      <th>mean</th>\n",
       "      <th>std</th>\n",
       "      <th>min</th>\n",
       "      <th>25%</th>\n",
       "      <th>50%</th>\n",
       "      <th>75%</th>\n",
       "      <th>max</th>\n",
       "    </tr>\n",
       "  </thead>\n",
       "  <tbody>\n",
       "    <tr>\n",
       "      <th>userid</th>\n",
       "      <td>86195.0</td>\n",
       "      <td>4.997584e+06</td>\n",
       "      <td>2.883574e+06</td>\n",
       "      <td>116.0</td>\n",
       "      <td>2513084.0</td>\n",
       "      <td>4995751.0</td>\n",
       "      <td>7495043.5</td>\n",
       "      <td>9999861.0</td>\n",
       "    </tr>\n",
       "    <tr>\n",
       "      <th>sum_gamerounds</th>\n",
       "      <td>86195.0</td>\n",
       "      <td>5.427606e+01</td>\n",
       "      <td>1.991916e+02</td>\n",
       "      <td>1.0</td>\n",
       "      <td>6.0</td>\n",
       "      <td>18.0</td>\n",
       "      <td>54.0</td>\n",
       "      <td>49854.0</td>\n",
       "    </tr>\n",
       "  </tbody>\n",
       "</table>\n",
       "</div>"
      ],
      "text/plain": [
       "                  count          mean           std    min        25%  \\\n",
       "userid          86195.0  4.997584e+06  2.883574e+06  116.0  2513084.0   \n",
       "sum_gamerounds  86195.0  5.427606e+01  1.991916e+02    1.0        6.0   \n",
       "\n",
       "                      50%        75%        max  \n",
       "userid          4995751.0  7495043.5  9999861.0  \n",
       "sum_gamerounds       18.0       54.0    49854.0  "
      ]
     },
     "execution_count": 6,
     "metadata": {},
     "output_type": "execute_result"
    }
   ],
   "source": [
    "cookie_cats.describe().T"
   ]
  },
  {
   "cell_type": "markdown",
   "id": "98c7fbfe-bdd6-496f-b4ed-0b980761f100",
   "metadata": {},
   "source": [
    "### Sample size and proportions overview"
   ]
  },
  {
   "cell_type": "code",
   "execution_count": 7,
   "id": "19bf2c55-ef01-4d37-99f4-6934c667d724",
   "metadata": {},
   "outputs": [
    {
     "data": {
      "text/plain": [
       "version\n",
       "gate_40    43432\n",
       "gate_30    42763\n",
       "Name: count, dtype: int64"
      ]
     },
     "execution_count": 7,
     "metadata": {},
     "output_type": "execute_result"
    }
   ],
   "source": [
    "sample_sizes = cookie_cats.version.value_counts()\n",
    "sample_sizes"
   ]
  },
  {
   "cell_type": "markdown",
   "id": "c15653ac-8da6-47d8-a96f-e3bb9ed1efe2",
   "metadata": {},
   "source": [
    "Sample sizes are almost similar. As gate_30 has 42763 users, gate_40 has 43432 users who played atleast one gameround."
   ]
  },
  {
   "cell_type": "code",
   "execution_count": 8,
   "id": "161b2006-796f-4939-ab13-e2b6fb677b86",
   "metadata": {},
   "outputs": [
    {
     "name": "stdout",
     "output_type": "stream",
     "text": [
      "version\n",
      "gate_40    50.388074\n",
      "gate_30    49.611926\n",
      "Name: count, dtype: float64\n"
     ]
    }
   ],
   "source": [
    "total_samples = sample_sizes.sum()\n",
    "proportions = (sample_sizes / total_samples) * 100\n",
    "print(proportions)"
   ]
  },
  {
   "cell_type": "markdown",
   "id": "bd88197b-fd06-43d7-9040-475bb8b95359",
   "metadata": {},
   "source": [
    "gate_30 accounts for 49.6% of the sample, while gate_40 accounts for 50.3%."
   ]
  },
  {
   "cell_type": "markdown",
   "id": "d3ce27a2-263e-45d1-9341-e2b422a23e31",
   "metadata": {},
   "source": [
    "#### Number of users"
   ]
  },
  {
   "cell_type": "code",
   "execution_count": 9,
   "id": "763e9dd2-1c4f-43e9-861c-c4eb57ee0490",
   "metadata": {},
   "outputs": [
    {
     "data": {
      "text/plain": [
       "86195"
      ]
     },
     "execution_count": 9,
     "metadata": {},
     "output_type": "execute_result"
    }
   ],
   "source": [
    "cookie_cats.userid.nunique()"
   ]
  },
  {
   "cell_type": "markdown",
   "id": "09140f8c-f07e-4f8e-8f2f-18d3346bc121",
   "metadata": {},
   "source": [
    "### Sample ratio mismatch check"
   ]
  },
  {
   "cell_type": "code",
   "execution_count": 10,
   "id": "d5c63a1f-284a-4725-8d13-2bf99ebed1b8",
   "metadata": {},
   "outputs": [
    {
     "name": "stdout",
     "output_type": "stream",
     "text": [
      "version\n",
      "gate_40    43432\n",
      "gate_30    42763\n",
      "Name: count, dtype: int64\n",
      "Observed Counts: [43432 42763]\n",
      "Expected Counts: [[43264.75 42930.25]\n",
      " [43264.75 42930.25]]\n",
      "Chi-Square Statistic: 2.580751204695435\n",
      "P-value: 0.1081703161976975\n",
      "No Sample Ratio Mismatch detected\n"
     ]
    }
   ],
   "source": [
    "print(cookie_cats['version'].value_counts())\n",
    "\n",
    "# Calculate the observed sample sizes for each group\n",
    "observed_counts = cookie_cats['version'].value_counts()\n",
    "\n",
    "total_samples = observed_counts.sum()\n",
    "expected_counts = [total_samples / len(observed_counts)] * len(observed_counts)\n",
    "\n",
    "chi2_stat, p_value, dof, expected = chi2_contingency([observed_counts, expected_counts])\n",
    "\n",
    "print(f\"Observed Counts: {observed_counts.values}\")\n",
    "print(f\"Expected Counts: {expected}\")\n",
    "print(f\"Chi-Square Statistic: {chi2_stat}\")\n",
    "print(f\"P-value: {p_value}\")\n",
    "\n",
    "if p_value < 0.05:\n",
    "    print(\"Sample Ratio Mismatch detected\")\n",
    "else:\n",
    "    print(\"No Sample Ratio Mismatch detected\")\n"
   ]
  },
  {
   "cell_type": "markdown",
   "id": "867e8a71-9027-42dd-bb45-6d2bc6cb3890",
   "metadata": {},
   "source": [
    "### Visualization"
   ]
  },
  {
   "cell_type": "markdown",
   "id": "48ae1794-fea9-459b-8530-af6ddedb4ad5",
   "metadata": {},
   "source": [
    "#### Separate by Gate Level"
   ]
  },
  {
   "cell_type": "markdown",
   "id": "8d1d26eb-1842-4805-88d2-3fcf2e6a9e25",
   "metadata": {},
   "source": [
    "**Objective:**  \n",
    "To effectively define the target metric and select appropriate statistical tests, it is crucial to first analyze the features and their relationships with the different gate levels."
   ]
  },
  {
   "cell_type": "code",
   "execution_count": 11,
   "id": "48429572-ee1d-410a-a28e-95ac8d4d5994",
   "metadata": {},
   "outputs": [
    {
     "data": {
      "image/png": "[encoded data removed]",
      "text/plain": [
       "<Figure size 1000x400 with 1 Axes>"
      ]
     },
     "metadata": {},
     "output_type": "display_data"
    }
   ],
   "source": [
    "plt.figure(figsize=(10, 4))\n",
    "sns.boxplot(data=cookie_cats, x='sum_gamerounds', hue='version')\n",
    "sns.despine(top=True, right=True, left=False, bottom=False)\n",
    "plt.xlim(0, 200)\n",
    "plt.xlabel('sum_gamerounds')\n",
    "plt.title('Distribution of Game Rounds by Gate Version', pad=15)\n",
    "plt.show()"
   ]
  },
  {
   "cell_type": "markdown",
   "id": "cab3a2d9-374b-4d9e-af5d-573d005a716e",
   "metadata": {},
   "source": [
    "### Boxplot Analysis: Game Rounds Played by Users\n",
    "\n",
    "This boxplot compares the distribution of game rounds played by users for two versions of a mobile game: **gate_30** and **gate_40**. Key observations include:\n",
    "\n",
    "- Both versions have **similar medians**, with most players completing a low number of rounds.\n",
    "- **Gate_40** exhibits **greater variability** (wider interquartile range, IQR) and a broader spread, as indicated by longer whiskers.\n",
    "- Both versions have **significant outliers**, particularly for higher game rounds, suggesting a few highly engaged players.\n",
    "- Overall, **gate_40 displays more variation** in user behavior, potentially reflecting differences in engagement influenced by the game version.\n",
    "\n",
    "This analysis highlights how user engagement varies between the two game versions and points to potential factors affecting retention and gameplay.l"
   ]
  },
  {
   "cell_type": "code",
   "execution_count": 12,
   "id": "db4292d1-be46-4330-883d-4fa338c4cb3a",
   "metadata": {},
   "outputs": [
    {
     "data": {
      "text/html": [
       "<div>\n",
       "<style scoped>\n",
       "    .dataframe tbody tr th:only-of-type {\n",
       "        vertical-align: middle;\n",
       "    }\n",
       "\n",
       "    .dataframe tbody tr th {\n",
       "        vertical-align: top;\n",
       "    }\n",
       "\n",
       "    .dataframe thead th {\n",
       "        text-align: right;\n",
       "    }\n",
       "</style>\n",
       "<table border=\"1\" class=\"dataframe\">\n",
       "  <thead>\n",
       "    <tr style=\"text-align: right;\">\n",
       "      <th></th>\n",
       "      <th>count</th>\n",
       "      <th>mean</th>\n",
       "      <th>std</th>\n",
       "      <th>min</th>\n",
       "      <th>25%</th>\n",
       "      <th>50%</th>\n",
       "      <th>75%</th>\n",
       "      <th>max</th>\n",
       "    </tr>\n",
       "    <tr>\n",
       "      <th>version</th>\n",
       "      <th></th>\n",
       "      <th></th>\n",
       "      <th></th>\n",
       "      <th></th>\n",
       "      <th></th>\n",
       "      <th></th>\n",
       "      <th></th>\n",
       "      <th></th>\n",
       "    </tr>\n",
       "  </thead>\n",
       "  <tbody>\n",
       "    <tr>\n",
       "      <th>gate_30</th>\n",
       "      <td>42763.0</td>\n",
       "      <td>54.832332</td>\n",
       "      <td>262.217984</td>\n",
       "      <td>1.0</td>\n",
       "      <td>6.0</td>\n",
       "      <td>18.0</td>\n",
       "      <td>53.0</td>\n",
       "      <td>49854.0</td>\n",
       "    </tr>\n",
       "    <tr>\n",
       "      <th>gate_40</th>\n",
       "      <td>43432.0</td>\n",
       "      <td>53.728357</td>\n",
       "      <td>105.093012</td>\n",
       "      <td>1.0</td>\n",
       "      <td>6.0</td>\n",
       "      <td>18.0</td>\n",
       "      <td>55.0</td>\n",
       "      <td>2640.0</td>\n",
       "    </tr>\n",
       "  </tbody>\n",
       "</table>\n",
       "</div>"
      ],
      "text/plain": [
       "           count       mean         std  min  25%   50%   75%      max\n",
       "version                                                               \n",
       "gate_30  42763.0  54.832332  262.217984  1.0  6.0  18.0  53.0  49854.0\n",
       "gate_40  43432.0  53.728357  105.093012  1.0  6.0  18.0  55.0   2640.0"
      ]
     },
     "execution_count": 12,
     "metadata": {},
     "output_type": "execute_result"
    }
   ],
   "source": [
    "cookie_cats.groupby(['version']).describe()['sum_gamerounds']"
   ]
  },
  {
   "cell_type": "markdown",
   "id": "0fece09e-2af5-4928-ae11-4cf01759c05f",
   "metadata": {},
   "source": [
    "##### Total number of game rounds played in each version"
   ]
  },
  {
   "cell_type": "code",
   "execution_count": 13,
   "id": "0cc280d4-13a4-4956-a622-cac342fb2cce",
   "metadata": {},
   "outputs": [
    {
     "data": {
      "text/plain": [
       "version\n",
       "gate_30    2344795\n",
       "gate_40    2333530\n",
       "Name: sum_gamerounds, dtype: int64"
      ]
     },
     "execution_count": 13,
     "metadata": {},
     "output_type": "execute_result"
    }
   ],
   "source": [
    "cookie_cats.groupby(['version'])['sum_gamerounds'].sum()"
   ]
  },
  {
   "cell_type": "markdown",
   "id": "90c86ab4-22f4-4b0d-b7f5-dd7b5e7c711f",
   "metadata": {},
   "source": [
    "#### Retention Rates: Day 1 and Day 7"
   ]
  },
  {
   "cell_type": "code",
   "execution_count": 14,
   "id": "6cd80d1d-4c17-41b2-a987-341398196f4f",
   "metadata": {},
   "outputs": [
    {
     "data": {
      "image/png": "[encoded data removed]",
      "text/plain": [
       "<Figure size 640x480 with 1 Axes>"
      ]
     },
     "metadata": {},
     "output_type": "display_data"
    }
   ],
   "source": [
    "visuals.stacked_bar_plot(cookie_cats, col='version', hue='retention_1', \n",
    "                 title='Retention Count after 1 Day')"
   ]
  },
  {
   "cell_type": "code",
   "execution_count": 15,
   "id": "07eb94e0-d522-421f-9ed6-b627c6837120",
   "metadata": {},
   "outputs": [
    {
     "data": {
      "image/png": "[encoded data removed]",
      "text/plain": [
       "<Figure size 640x480 with 1 Axes>"
      ]
     },
     "metadata": {},
     "output_type": "display_data"
    }
   ],
   "source": [
    "visuals.stacked_bar_plot(cookie_cats, col='version', hue='retention_7', \n",
    "                 title='Retention Count after 7 Days')"
   ]
  },
  {
   "cell_type": "code",
   "execution_count": 16,
   "id": "f9348a9f-b19c-47cf-a7af-b25cc4791a02",
   "metadata": {},
   "outputs": [
    {
     "data": {
      "text/html": [
       "<div>\n",
       "<style scoped>\n",
       "    .dataframe tbody tr th:only-of-type {\n",
       "        vertical-align: middle;\n",
       "    }\n",
       "\n",
       "    .dataframe tbody tr th {\n",
       "        vertical-align: top;\n",
       "    }\n",
       "\n",
       "    .dataframe thead th {\n",
       "        text-align: right;\n",
       "    }\n",
       "</style>\n",
       "<table border=\"1\" class=\"dataframe\">\n",
       "  <thead>\n",
       "    <tr style=\"text-align: right;\">\n",
       "      <th></th>\n",
       "      <th>version</th>\n",
       "      <th>userid</th>\n",
       "      <th>retention_1</th>\n",
       "      <th>retention_7</th>\n",
       "      <th>ret1_prop</th>\n",
       "      <th>ret7_prop</th>\n",
       "    </tr>\n",
       "  </thead>\n",
       "  <tbody>\n",
       "    <tr>\n",
       "      <th>0</th>\n",
       "      <td>gate_30</td>\n",
       "      <td>42763</td>\n",
       "      <td>19993</td>\n",
       "      <td>8486</td>\n",
       "      <td>46.753034</td>\n",
       "      <td>19.844258</td>\n",
       "    </tr>\n",
       "    <tr>\n",
       "      <th>1</th>\n",
       "      <td>gate_40</td>\n",
       "      <td>43432</td>\n",
       "      <td>20073</td>\n",
       "      <td>8266</td>\n",
       "      <td>46.217075</td>\n",
       "      <td>19.032050</td>\n",
       "    </tr>\n",
       "  </tbody>\n",
       "</table>\n",
       "</div>"
      ],
      "text/plain": [
       "   version  userid  retention_1  retention_7  ret1_prop  ret7_prop\n",
       "0  gate_30   42763        19993         8486  46.753034  19.844258\n",
       "1  gate_40   43432        20073         8266  46.217075  19.032050"
      ]
     },
     "execution_count": 16,
     "metadata": {},
     "output_type": "execute_result"
    }
   ],
   "source": [
    "#calculate retention rate\n",
    "proportions = (\n",
    "    cookie_cats.groupby(\"version\")\n",
    "    .agg(\n",
    "        {\n",
    "            \"userid\": \"count\",\n",
    "            \"retention_1\": lambda x: (x == 1).sum(),\n",
    "            \"retention_7\": lambda x: (x == 1).sum(),\n",
    "        }\n",
    "    )\n",
    "    .reset_index()\n",
    ")\n",
    "proportions[\"ret1_prop\"] = (proportions[\"retention_1\"] / proportions[\"userid\"]) * 100\n",
    "proportions[\"ret7_prop\"] = (proportions[\"retention_7\"] / proportions[\"userid\"]) * 100\n",
    "proportions"
   ]
  },
  {
   "cell_type": "code",
   "execution_count": 17,
   "id": "f9c1789d-9436-428a-a2ec-6c997048e189",
   "metadata": {},
   "outputs": [
    {
     "data": {
      "image/png": "[encoded data removed]",
      "text/plain": [
       "<Figure size 800x400 with 2 Axes>"
      ]
     },
     "metadata": {},
     "output_type": "display_data"
    }
   ],
   "source": [
    "# Extracting data for Gate 30 and Gate 40 retention percentages\n",
    "gate_data = {\n",
    "    \"Gate 30\": {\n",
    "        \"x\": [\"ret 1\", \"ret 7\"],\n",
    "        \"y\": [proportions.loc[0, \"ret1_prop\"], proportions.loc[0, \"ret7_prop\"]]\n",
    "    },\n",
    "    \"Gate 40\": {\n",
    "        \"x\": [\"ret 1\", \"ret 7\"],\n",
    "        \"y\": [proportions.loc[1, \"ret1_prop\"], proportions.loc[1, \"ret7_prop\"]]\n",
    "    }\n",
    "}\n",
    "\n",
    "visuals.retention_percentage_bar_plot(gate_data)"
   ]
  },
  {
   "cell_type": "markdown",
   "id": "36ae4683-8bfb-468e-bf55-b4e19a376cc0",
   "metadata": {},
   "source": [
    "The average number of game rounds played during the first 14 days after installation was similar for both versions of the game, but version gate_30 had a standard deviation nearly twice as high as version gate_40, indicating more variability in gameplay. Additionally, retention rates on day 1 and day 7 were comparable between the two versions, although the difference in retention rates became more noticeable after 7 days, with version gate_40 showing slightly better sustained engagement."
   ]
  },
  {
   "cell_type": "markdown",
   "id": "701497ad-d61c-4e33-bac4-03b25d1a7809",
   "metadata": {},
   "source": [
    "The **Chi Square test** will be employed for this analysis as it is suitable for categorical data. This test will determine whether there is a significant difference in the retention rate between the two game versions. The significance level for all tests is set at **0.05**.\n",
    "\n",
    "**Statistical Test: Chi Square Test**\n",
    "\n",
    "**Assumptions:**\n",
    "- The data should consist of **two categorical and independent variables**.\n",
    "- Each variable should have **two groups** (e.g., gate_30 and gate_40).\n",
    "\n",
    "**Analysis Plan:**\n",
    "To strengthen our analysis beyond just descriptive statistics, we will use the Chi Square test to determine if the observed differences in 1-day and 7-day retention rates between the two versions are statistically significant. This will help us draw more informed conclusions about the retention performance of each game version."
   ]
  },
  {
   "cell_type": "markdown",
   "id": "e7fdcba3-9cbc-4a2a-a2f1-4ee59437be52",
   "metadata": {},
   "source": [
    "# Step 6 - Interpret Results "
   ]
  },
  {
   "cell_type": "markdown",
   "id": "dd97a837-63ef-43a7-bf2d-f37806ad5ab8",
   "metadata": {},
   "source": [
    "After analyzing the data from multiple perspectives, it is clear that the 7-day retention rates exhibit significant differences between the game versions, while the average number of game rounds played during the first 14 days shows only minor variations."
   ]
  },
  {
   "cell_type": "markdown",
   "id": "9a7e5a36-4543-4cdb-8a56-186efee6b093",
   "metadata": {},
   "source": [
    "## Target Metric \n",
    "Although the average number of game rounds played ('sum_gamerounds') was similar between the two versions, the large standard deviation suggests that this metric may lack the sensitivity needed for clear conclusions. Therefore, analyzing the retention rates may provide more meaningful insights. The primary target metric is to determine if **version gate_30** has a higher 7-day retention rate, which reflects the game’s lasting appeal and long-term player engagement."
   ]
  },
  {
   "cell_type": "code",
   "execution_count": 18,
   "id": "b3996173-8c96-4382-b19a-bb0fbfcad0a3",
   "metadata": {},
   "outputs": [
    {
     "name": "stdout",
     "output_type": "stream",
     "text": [
      "\n",
      "--- Chi-Square Test Results for Retention 1 ---\n",
      "           Statistic    Value\n",
      "Chi-Square Statistic 2.466634\n",
      "             P-value 0.116287\n",
      "  Degrees of Freedom 1.000000\n",
      "\n",
      "--- Expected Frequencies for Retention 1 ---\n",
      "retention_1    False    True \n",
      "version                      \n",
      "gate_30     22885.49 19877.51\n",
      "gate_40     23243.51 20188.49\n",
      "\n",
      "--- Chi-Square Test Results for Retention 7 ---\n",
      "           Statistic    Value\n",
      "Chi-Square Statistic 9.026391\n",
      "             P-value 0.002661\n",
      "  Degrees of Freedom 1.000000\n",
      "\n",
      "--- Expected Frequencies for Retention 7 ---\n",
      "retention_7    False   True \n",
      "version                     \n",
      "gate_30     34452.01 8310.99\n",
      "gate_40     34990.99 8441.01\n"
     ]
    }
   ],
   "source": [
    "# Chi-Square Test for Retention 1\n",
    "contingency_table_ret1 = pd.crosstab(cookie_cats['version'], cookie_cats['retention_1'])\n",
    "\n",
    "chi2_stat_ret1, p_value_ret1, degrees_of_freedom_ret1, expected_frequencies_ret1 = chi2_contingency(contingency_table_ret1)\n",
    "\n",
    "print(\"\\n--- Chi-Square Test Results for Retention 1 ---\")\n",
    "results_ret1_df = pd.DataFrame({\n",
    "    'Statistic': ['Chi-Square Statistic', 'P-value', 'Degrees of Freedom'],\n",
    "    'Value': [chi2_stat_ret1, p_value_ret1, degrees_of_freedom_ret1]\n",
    "})\n",
    "print(results_ret1_df.to_string(index=False, header=True))\n",
    "\n",
    "# Expected Frequencies for Retention 1\n",
    "print(\"\\n--- Expected Frequencies for Retention 1 ---\")\n",
    "expected_frequencies_ret1_df = pd.DataFrame(expected_frequencies_ret1,\n",
    "                                            columns=contingency_table_ret1.columns,\n",
    "                                            index=contingency_table_ret1.index)\n",
    "print(expected_frequencies_ret1_df.to_string(float_format=\"{:.2f}\".format, header=True))\n",
    "\n",
    "# Chi-Square Test for Retention 7\n",
    "contingency_table_ret7 = pd.crosstab(cookie_cats['version'], cookie_cats['retention_7'])\n",
    "\n",
    "chi2_stat_ret7, p_value_ret7, degrees_of_freedom_ret7, expected_frequencies_ret7 = chi2_contingency(contingency_table_ret7)\n",
    "\n",
    "print(\"\\n--- Chi-Square Test Results for Retention 7 ---\")\n",
    "results_ret7_df = pd.DataFrame({\n",
    "    'Statistic': ['Chi-Square Statistic', 'P-value', 'Degrees of Freedom'],\n",
    "    'Value': [chi2_stat_ret7, p_value_ret7, degrees_of_freedom_ret7]\n",
    "})\n",
    "print(results_ret7_df.to_string(index=False, header=True))\n",
    "\n",
    "# Expected Frequencies for Retention 7\n",
    "print(\"\\n--- Expected Frequencies for Retention 7 ---\")\n",
    "expected_frequencies_ret7_df = pd.DataFrame(expected_frequencies_ret7,\n",
    "                                            columns=contingency_table_ret7.columns,\n",
    "                                            index=contingency_table_ret7.index)\n",
    "print(expected_frequencies_ret7_df.to_string(float_format=\"{:.2f}\".format, header=True))\n"
   ]
  },
  {
   "cell_type": "markdown",
   "id": "1a83346d-06e0-4d9c-bd0a-9bd1f988639f",
   "metadata": {},
   "source": [
    "### Retention Rate Analysis\n",
    "\n",
    "**Formula for Retention Rate:**\n",
    "Retention Rate=(Total Number of Players/Number of True Retentions)×100\n",
    "### **Interpretation for Retention 1**\n",
    "- **Null Hypothesis (H₀):**  \n",
    "  There is no association between the version (`gate_30` or `gate_40`) and `retention_1`.\n",
    "- **Result:**  \n",
    "  The p-value (0.116287) is greater than the commonly used significance level (e.g., 0.05).  \n",
    "  **Conclusion:**  \n",
    "  We fail to reject the null hypothesis. There is insufficient evidence to suggest a significant association between the version and `retention_1`.\n",
    "\n",
    "### **Interpretation for Retention 7**\n",
    "- **Null Hypothesis (H₀):**  \n",
    "  There is no association between the version (`gate_30` or `gate_40`) and `retention_7`.\n",
    "- **Result:**  \n",
    "  The p-value (0.002661) is less than the commonly used significance level (e.g., 0.05).  \n",
    "  **Conclusion:**  \n",
    "  We reject the null hypothesis. There is strong evidence of a significant association between the version and `retention_7`.\n",
    "\n",
    "\n",
    "### **Summary**\n",
    "- **Retention 1:** No significant association with version.  \n",
    "- **Retention 7:** Significant association with version.  \n",
    "\n",
    "**Implication:**  \n",
    "This suggests that the retention behavior over a 7-day period is influenced by the version (`gate_30` vs. `gate_40`), whereas the 1-day retention does not show such influence.\n",
    "\n",
    "To complement the Chi-Square test results, performing D'Agostino and Pearson's Test on the data columns (retention_1 and retention_7) provides insights into whether the data distribution is normal, which can guide subsequent test selections and interpretations.\n",
    "\n",
    "Here’s the adapted analysis for retention_1 and retention_7:"
   ]
  },
  {
   "cell_type": "markdown",
   "id": "096a11ef-6660-4f91-ba5f-80d636c57490",
   "metadata": {},
   "source": [
    "### Analyzing Normality Using D'Agostino and Pearson's Test\n",
    "\n",
    "D'Agostino and Pearson's Test is used to determine if a data sample follows a normal distribution. This is important for choosing appropriate statistical tests (e.g., t-tests, ANOVA) that assume normality.\n",
    "\n",
    "- **Purpose**: Assesses if data (e.g., `retention_1`, `retention_7`) follows a normal distribution.\n",
    "- **Method**: Evaluates skewness and kurtosis and calculates a test statistic with a p-value.\n",
    "- **Interpretation**:\n",
    "  - **High p-value (> 0.05)**: Fail to reject the null hypothesis, indicating data is likely normally distributed, allowing for parametric tests.\n",
    "  - **Low p-value (< 0.05)**: Reject the null hypothesis, suggesting data is not normally distributed, recommending non-parametric tests instead."
   ]
  },
  {
   "cell_type": "code",
   "execution_count": 19,
   "id": "9259f6d3-1bf6-4feb-bb4f-c88b4689a81f",
   "metadata": {},
   "outputs": [
    {
     "name": "stdout",
     "output_type": "stream",
     "text": [
      "D'Agostino and Pearson's Test for retention_1:\n",
      "Test Statistic: 297448.7338, p-value: 0.0000e+00\n",
      "Reject the null hypothesis: The data for retention_1 does not follow a normal distribution.\n",
      "\n",
      "D'Agostino and Pearson's Test for retention_7:\n",
      "Test Statistic: 19004.6897, p-value: 0.0000e+00\n",
      "Reject the null hypothesis: The data for retention_7 does not follow a normal distribution.\n"
     ]
    }
   ],
   "source": [
    "# Perform D'Agostino and Pearson's Test for retention_1\n",
    "stat_ret1, p_value_ret1 = normaltest(cookie_cats['retention_1'])\n",
    "print(f\"D'Agostino and Pearson's Test for retention_1:\")\n",
    "print(f\"Test Statistic: {stat_ret1:.4f}, p-value: {p_value_ret1:.4e}\")\n",
    "if p_value_ret1 < 0.05:\n",
    "    print(\"Reject the null hypothesis: The data for retention_1 does not follow a normal distribution.\")\n",
    "else:\n",
    "    print(\"Fail to reject the null hypothesis: The data for retention_1 follows a normal distribution.\")\n",
    "\n",
    "# Perform D'Agostino and Pearson's Test for retention_7\n",
    "stat_ret7, p_value_ret7 = normaltest(cookie_cats['retention_7'])\n",
    "print(f\"\\nD'Agostino and Pearson's Test for retention_7:\")\n",
    "print(f\"Test Statistic: {stat_ret7:.4f}, p-value: {p_value_ret7:.4e}\")\n",
    "if p_value_ret7 < 0.05:\n",
    "    print(\"Reject the null hypothesis: The data for retention_7 does not follow a normal distribution.\")\n",
    "else:\n",
    "    print(\"Fail to reject the null hypothesis: The data for retention_7 follows a normal distribution.\")"
   ]
  },
  {
   "cell_type": "markdown",
   "id": "6847447a-a355-48a8-b92c-4ce25c59575a",
   "metadata": {},
   "source": [
    "### Summary\n",
    "- Both `retention_1` and `retention_7` do not follow a normal distribution (based on D'Agostino and Pearson's Test results).  \n",
    "- This supports the choice of the **Chi-Square test** for analyzing associations between categorical variables (such as version and retention outcomes), as the Chi-Square test does not assume normality.  \n",
    "- These results reinforce the significance of the findings from the Chi-Square test, specifically for `retention_7`, which demonstrated a strong association with the version.  \n"
   ]
  },
  {
   "cell_type": "markdown",
   "id": "b31c6592-439b-49ca-8c89-f04267758ca7",
   "metadata": {},
   "source": [
    "## Confidence Interval"
   ]
  },
  {
   "cell_type": "code",
   "execution_count": 20,
   "id": "e0d12ea1-64b6-4bbc-a553-43a2c0dee48a",
   "metadata": {},
   "outputs": [
    {
     "data": {
      "text/html": [
       "<div>\n",
       "<style scoped>\n",
       "    .dataframe tbody tr th:only-of-type {\n",
       "        vertical-align: middle;\n",
       "    }\n",
       "\n",
       "    .dataframe tbody tr th {\n",
       "        vertical-align: top;\n",
       "    }\n",
       "\n",
       "    .dataframe thead th {\n",
       "        text-align: right;\n",
       "    }\n",
       "</style>\n",
       "<table border=\"1\" class=\"dataframe\">\n",
       "  <thead>\n",
       "    <tr style=\"text-align: right;\">\n",
       "      <th></th>\n",
       "      <th>Version</th>\n",
       "      <th>Mean</th>\n",
       "      <th>CI Lower</th>\n",
       "      <th>CI Upper</th>\n",
       "    </tr>\n",
       "  </thead>\n",
       "  <tbody>\n",
       "    <tr>\n",
       "      <th>0</th>\n",
       "      <td>Gate 30</td>\n",
       "      <td>0.198265</td>\n",
       "      <td>0.194865</td>\n",
       "      <td>0.202020</td>\n",
       "    </tr>\n",
       "    <tr>\n",
       "      <th>1</th>\n",
       "      <td>Gate 40</td>\n",
       "      <td>0.190343</td>\n",
       "      <td>0.186498</td>\n",
       "      <td>0.194097</td>\n",
       "    </tr>\n",
       "  </tbody>\n",
       "</table>\n",
       "</div>"
      ],
      "text/plain": [
       "   Version      Mean  CI Lower  CI Upper\n",
       "0  Gate 30  0.198265  0.194865  0.202020\n",
       "1  Gate 40  0.190343  0.186498  0.194097"
      ]
     },
     "execution_count": 20,
     "metadata": {},
     "output_type": "execute_result"
    }
   ],
   "source": [
    "cookie_cats['retention_7'] = cookie_cats['retention_7'].astype(int)\n",
    "versions = ['gate_30', 'gate_40']\n",
    "ci_results = [func.ci_bootstrap(data=cookie_cats[cookie_cats['version'] == \n",
    "                                            version]['retention_7']) for \n",
    "              version in versions]\n",
    "ci_df_bootstrap = pd.DataFrame(ci_results, columns=['Mean', 'CI Lower', 'CI Upper'])\n",
    "ci_df_bootstrap['Version'] = ['Gate 30', 'Gate 40']\n",
    "ci_df_bootstrap = ci_df_bootstrap[['Version', 'Mean', 'CI Lower', 'CI Upper']]\n",
    "ci_df_bootstrap"
   ]
  },
  {
   "cell_type": "code",
   "execution_count": 21,
   "id": "f515df91-67ec-400a-a180-c94431ae3456",
   "metadata": {},
   "outputs": [
    {
     "data": {
      "image/png": "[encoded data removed]",
      "text/plain": [
       "<Figure size 800x600 with 1 Axes>"
      ]
     },
     "metadata": {},
     "output_type": "display_data"
    }
   ],
   "source": [
    "df = cookie_cats.groupby('version')['retention_7'].agg(['mean', 'count']).reset_index()\n",
    "\n",
    "df['ci_lower'] = df['mean'] - 1.96 * (df['mean'] * (1 - df['mean']) / df['count'])**0.5 \n",
    "df['ci_upper'] = df['mean'] + 1.96 * (df['mean'] * (1 - df['mean']) / df['count'])**0.5\n",
    "df['error_lower'] = df['mean'] - df['ci_lower']\n",
    "df['error_upper'] = df['ci_upper'] - df['mean']\n",
    "\n",
    "versions = df['version'].tolist()\n",
    "means = df['mean'].tolist()\n",
    "errors = [df['error_lower'].tolist(), df['error_upper'].tolist()]\n",
    "\n",
    "fig, ax = plt.subplots(figsize=(8, 6))\n",
    "ax.bar(versions, means, yerr=errors, color=['skyblue', 'brown'], capsize=5)\n",
    "ax.set_xlabel('Version')\n",
    "ax.set_ylabel('7 Day Retention Rate')\n",
    "ax.set_title('7 Day Retention Rates for Gate 30 vs Gate 40\\nwith Confidence Intervals')\n",
    "\n",
    "plt.show()\n"
   ]
  },
  {
   "cell_type": "markdown",
   "id": "233e17c4-59b2-4d49-ac5e-b36fcdcd9258",
   "metadata": {},
   "source": [
    "### Bar Plot Analysis: 7-Day Retention Rates\n",
    "\n",
    "This bar plot illustrates the **7-day retention rates** for **gate_30** and **gate_40**, which are nearly identical, both hovering around **20%**. Key observations include:\n",
    "\n",
    "- **Overlapping confidence intervals** indicate no statistically significant difference between the two versions.\n",
    "- Changing the gate from **30 to 40** appears to have **minimal impact on user retention** within the first week.\n",
    "\n",
    "These findings suggest that altering the gate position does not significantly influence user behavior in terms of retention over a 7-day period."
   ]
  },
  {
   "cell_type": "markdown",
   "id": "75c49e9a-fab7-44e0-834e-f368d52a80b4",
   "metadata": {},
   "source": [
    "## Estimated Treatment Difference"
   ]
  },
  {
   "cell_type": "markdown",
   "id": "595fd10e-a1e4-4c80-a580-6d583fd31c87",
   "metadata": {},
   "source": [
    "### Estimating the Difference Between Proportions with Confidence"
   ]
  },
  {
   "cell_type": "code",
   "execution_count": 22,
   "id": "20e91401-ecd6-4084-9c6b-975e622eee84",
   "metadata": {},
   "outputs": [
    {
     "data": {
      "text/html": [
       "<div>\n",
       "<style scoped>\n",
       "    .dataframe tbody tr th:only-of-type {\n",
       "        vertical-align: middle;\n",
       "    }\n",
       "\n",
       "    .dataframe tbody tr th {\n",
       "        vertical-align: top;\n",
       "    }\n",
       "\n",
       "    .dataframe thead th {\n",
       "        text-align: right;\n",
       "    }\n",
       "</style>\n",
       "<table border=\"1\" class=\"dataframe\">\n",
       "  <thead>\n",
       "    <tr style=\"text-align: right;\">\n",
       "      <th></th>\n",
       "      <th>version</th>\n",
       "      <th>userid</th>\n",
       "      <th>retention_1</th>\n",
       "      <th>retention_7</th>\n",
       "      <th>ret1_prop</th>\n",
       "      <th>ret7_prop</th>\n",
       "    </tr>\n",
       "  </thead>\n",
       "  <tbody>\n",
       "    <tr>\n",
       "      <th>0</th>\n",
       "      <td>gate_30</td>\n",
       "      <td>42763</td>\n",
       "      <td>19993</td>\n",
       "      <td>8486</td>\n",
       "      <td>46.753034</td>\n",
       "      <td>19.844258</td>\n",
       "    </tr>\n",
       "    <tr>\n",
       "      <th>1</th>\n",
       "      <td>gate_40</td>\n",
       "      <td>43432</td>\n",
       "      <td>20073</td>\n",
       "      <td>8266</td>\n",
       "      <td>46.217075</td>\n",
       "      <td>19.032050</td>\n",
       "    </tr>\n",
       "  </tbody>\n",
       "</table>\n",
       "</div>"
      ],
      "text/plain": [
       "   version  userid  retention_1  retention_7  ret1_prop  ret7_prop\n",
       "0  gate_30   42763        19993         8486  46.753034  19.844258\n",
       "1  gate_40   43432        20073         8266  46.217075  19.032050"
      ]
     },
     "execution_count": 22,
     "metadata": {},
     "output_type": "execute_result"
    }
   ],
   "source": [
    "proportions"
   ]
  },
  {
   "cell_type": "code",
   "execution_count": 23,
   "id": "53e60230-7953-479e-bdcd-05f297aa0235",
   "metadata": {},
   "outputs": [
    {
     "name": "stdout",
     "output_type": "stream",
     "text": [
      "Z-statistic: 3.013003335580102, P-value: 0.0025867607438543124\n",
      "95% Confidence Interval for the difference in proportions: (0.00283828003184016, 0.013405875671817176)\n"
     ]
    }
   ],
   "source": [
    "success = proportions[\"retention_7\"].tolist()  \n",
    "nobs = proportions[\"userid\"].tolist() \n",
    "\n",
    "z_stat, p_value = proportions_ztest(success, nobs)\n",
    "\n",
    "p1 = success[0] / nobs[0]  \n",
    "p2 = success[1] / nobs[1]\n",
    "\n",
    "diff = p1 - p2\n",
    "se_diff = np.sqrt((p1 * (1 - p1) / nobs[0]) + (p2 * (1 - p2) / nobs[1]))\n",
    "diff_ci = st.norm.interval(0.95, loc=diff, scale=se_diff)\n",
    "print(f\"Z-statistic: {z_stat}, P-value: {p_value}\")\n",
    "print(f\"95% Confidence Interval for the difference in proportions: ({diff_ci[0]}, {diff_ci[1]})\")\n"
   ]
  },
  {
   "cell_type": "markdown",
   "id": "983188ed-3cbc-4f42-82c1-e52c7579acfc",
   "metadata": {},
   "source": [
    "Since the p-value is less than 0.05 and the confidence interval (CI) for the difference in proportions does not include zero, there is sufficient evidence to reject the null hypothesis (H₀). This indicates a statistically significant difference between the gate_30 and gate_40 versions in terms of 7-day retention. \n",
    "\n",
    "Based on the estimated difference in proportions between the two independent samples, we conclude that the gate_30 version demonstrates a significantly higher 7-day retention success rate compared to the gate_40 version."
   ]
  },
  {
   "cell_type": "markdown",
   "id": "3d5b9380-9e98-4e44-a0da-372f2bb1e451",
   "metadata": {},
   "source": [
    "# Step 7 - Decision"
   ]
  },
  {
   "cell_type": "markdown",
   "id": "a599c8a0-8585-45f1-8de7-f465f41454b0",
   "metadata": {},
   "source": [
    "Based on the analysis of retention rates, hypothesis testing, and bootstrap confidence intervals, it is evident that **Gate 30** significantly outperforms **Gate 40** in terms of 7-day retention rates. The p-value from hypothesis testing is less than 0.05, and the confidence intervals for the difference in proportions do not include zero, further supporting this conclusion.  \n",
    "\n",
    "To maximize player retention, it is recommended to continue using Gate 30 as the gating strategy. Moving to Gate 40 could negatively impact the retention rates and overall user engagement."
   ]
  },
  {
   "cell_type": "markdown",
   "id": "34b55d80-e33a-4c59-b9b5-a8f39ee153c6",
   "metadata": {},
   "source": [
    "# Further Improvements"
   ]
  },
  {
   "cell_type": "markdown",
   "id": "b57bb41e-9e84-410d-85df-b05169c2df7e",
   "metadata": {},
   "source": [
    "Extending retention analysis to 14 or 30 days helps identify long-term player engagement patterns and assess whether gate placement impacts retention over time. This deeper insight can reveal if players who stay engaged longer are more likely to make in-game purchases, indicating a potential link between gate placement and monetization. Integrating these findings allows for data-driven strategies to optimize both player retention and revenue."
   ]
  },
  {
   "cell_type": "code",
   "execution_count": null,
   "id": "ddbb2e77-110f-44a2-b284-1fe1a61c58e5",
   "metadata": {},
   "outputs": [],
   "source": []
  }
 ],
 "metadata": {
  "kernelspec": {
   "display_name": "Python 3 (ipykernel)",
   "language": "python",
   "name": "python3"
  },
  "language_info": {
   "codemirror_mode": {
    "name": "ipython",
    "version": 3
   },
   "file_extension": ".py",
   "mimetype": "text/x-python",
   "name": "python",
   "nbconvert_exporter": "python",
   "pygments_lexer": "ipython3",
   "version": "3.12.7"
  }
 },
 "nbformat": 4,
 "nbformat_minor": 5
}
